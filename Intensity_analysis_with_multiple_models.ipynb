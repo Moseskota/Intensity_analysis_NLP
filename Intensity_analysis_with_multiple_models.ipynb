{
  "nbformat": 4,
  "nbformat_minor": 0,
  "metadata": {
    "colab": {
      "provenance": []
    },
    "kernelspec": {
      "name": "python3",
      "display_name": "Python 3"
    },
    "language_info": {
      "name": "python"
    },
    "widgets": {
      "application/vnd.jupyter.widget-state+json": {
        "ca6c999a3da743cf9e536e3c85d16837": {
          "model_module": "@jupyter-widgets/controls",
          "model_name": "HBoxModel",
          "model_module_version": "1.5.0",
          "state": {
            "_dom_classes": [],
            "_model_module": "@jupyter-widgets/controls",
            "_model_module_version": "1.5.0",
            "_model_name": "HBoxModel",
            "_view_count": null,
            "_view_module": "@jupyter-widgets/controls",
            "_view_module_version": "1.5.0",
            "_view_name": "HBoxView",
            "box_style": "",
            "children": [
              "IPY_MODEL_150b47a74a64423388edd6bdc826896c",
              "IPY_MODEL_fda88c6dd72a4f81afe12dca95d0fdf5",
              "IPY_MODEL_015363f8d06a44d7a162fc553f630a23"
            ],
            "layout": "IPY_MODEL_07eae13492a44dc7be548eabfed7a8e3"
          }
        },
        "150b47a74a64423388edd6bdc826896c": {
          "model_module": "@jupyter-widgets/controls",
          "model_name": "HTMLModel",
          "model_module_version": "1.5.0",
          "state": {
            "_dom_classes": [],
            "_model_module": "@jupyter-widgets/controls",
            "_model_module_version": "1.5.0",
            "_model_name": "HTMLModel",
            "_view_count": null,
            "_view_module": "@jupyter-widgets/controls",
            "_view_module_version": "1.5.0",
            "_view_name": "HTMLView",
            "description": "",
            "description_tooltip": null,
            "layout": "IPY_MODEL_4f792cccbf4240a395947d2867f1c775",
            "placeholder": "​",
            "style": "IPY_MODEL_22b0bcaeccf24d0195f526b47ad2d2f5",
            "value": "tokenizer_config.json: 100%"
          }
        },
        "fda88c6dd72a4f81afe12dca95d0fdf5": {
          "model_module": "@jupyter-widgets/controls",
          "model_name": "FloatProgressModel",
          "model_module_version": "1.5.0",
          "state": {
            "_dom_classes": [],
            "_model_module": "@jupyter-widgets/controls",
            "_model_module_version": "1.5.0",
            "_model_name": "FloatProgressModel",
            "_view_count": null,
            "_view_module": "@jupyter-widgets/controls",
            "_view_module_version": "1.5.0",
            "_view_name": "ProgressView",
            "bar_style": "success",
            "description": "",
            "description_tooltip": null,
            "layout": "IPY_MODEL_eb22608077d54b4b8941701f993b0e44",
            "max": 48,
            "min": 0,
            "orientation": "horizontal",
            "style": "IPY_MODEL_95a0d2d723234044ac4cf231676ae225",
            "value": 48
          }
        },
        "015363f8d06a44d7a162fc553f630a23": {
          "model_module": "@jupyter-widgets/controls",
          "model_name": "HTMLModel",
          "model_module_version": "1.5.0",
          "state": {
            "_dom_classes": [],
            "_model_module": "@jupyter-widgets/controls",
            "_model_module_version": "1.5.0",
            "_model_name": "HTMLModel",
            "_view_count": null,
            "_view_module": "@jupyter-widgets/controls",
            "_view_module_version": "1.5.0",
            "_view_name": "HTMLView",
            "description": "",
            "description_tooltip": null,
            "layout": "IPY_MODEL_d579c768a4634cd1884886cc868fbac9",
            "placeholder": "​",
            "style": "IPY_MODEL_6aabb50cca544be58bac00bead9c38ac",
            "value": " 48.0/48.0 [00:00&lt;00:00, 3.64kB/s]"
          }
        },
        "07eae13492a44dc7be548eabfed7a8e3": {
          "model_module": "@jupyter-widgets/base",
          "model_name": "LayoutModel",
          "model_module_version": "1.2.0",
          "state": {
            "_model_module": "@jupyter-widgets/base",
            "_model_module_version": "1.2.0",
            "_model_name": "LayoutModel",
            "_view_count": null,
            "_view_module": "@jupyter-widgets/base",
            "_view_module_version": "1.2.0",
            "_view_name": "LayoutView",
            "align_content": null,
            "align_items": null,
            "align_self": null,
            "border": null,
            "bottom": null,
            "display": null,
            "flex": null,
            "flex_flow": null,
            "grid_area": null,
            "grid_auto_columns": null,
            "grid_auto_flow": null,
            "grid_auto_rows": null,
            "grid_column": null,
            "grid_gap": null,
            "grid_row": null,
            "grid_template_areas": null,
            "grid_template_columns": null,
            "grid_template_rows": null,
            "height": null,
            "justify_content": null,
            "justify_items": null,
            "left": null,
            "margin": null,
            "max_height": null,
            "max_width": null,
            "min_height": null,
            "min_width": null,
            "object_fit": null,
            "object_position": null,
            "order": null,
            "overflow": null,
            "overflow_x": null,
            "overflow_y": null,
            "padding": null,
            "right": null,
            "top": null,
            "visibility": null,
            "width": null
          }
        },
        "4f792cccbf4240a395947d2867f1c775": {
          "model_module": "@jupyter-widgets/base",
          "model_name": "LayoutModel",
          "model_module_version": "1.2.0",
          "state": {
            "_model_module": "@jupyter-widgets/base",
            "_model_module_version": "1.2.0",
            "_model_name": "LayoutModel",
            "_view_count": null,
            "_view_module": "@jupyter-widgets/base",
            "_view_module_version": "1.2.0",
            "_view_name": "LayoutView",
            "align_content": null,
            "align_items": null,
            "align_self": null,
            "border": null,
            "bottom": null,
            "display": null,
            "flex": null,
            "flex_flow": null,
            "grid_area": null,
            "grid_auto_columns": null,
            "grid_auto_flow": null,
            "grid_auto_rows": null,
            "grid_column": null,
            "grid_gap": null,
            "grid_row": null,
            "grid_template_areas": null,
            "grid_template_columns": null,
            "grid_template_rows": null,
            "height": null,
            "justify_content": null,
            "justify_items": null,
            "left": null,
            "margin": null,
            "max_height": null,
            "max_width": null,
            "min_height": null,
            "min_width": null,
            "object_fit": null,
            "object_position": null,
            "order": null,
            "overflow": null,
            "overflow_x": null,
            "overflow_y": null,
            "padding": null,
            "right": null,
            "top": null,
            "visibility": null,
            "width": null
          }
        },
        "22b0bcaeccf24d0195f526b47ad2d2f5": {
          "model_module": "@jupyter-widgets/controls",
          "model_name": "DescriptionStyleModel",
          "model_module_version": "1.5.0",
          "state": {
            "_model_module": "@jupyter-widgets/controls",
            "_model_module_version": "1.5.0",
            "_model_name": "DescriptionStyleModel",
            "_view_count": null,
            "_view_module": "@jupyter-widgets/base",
            "_view_module_version": "1.2.0",
            "_view_name": "StyleView",
            "description_width": ""
          }
        },
        "eb22608077d54b4b8941701f993b0e44": {
          "model_module": "@jupyter-widgets/base",
          "model_name": "LayoutModel",
          "model_module_version": "1.2.0",
          "state": {
            "_model_module": "@jupyter-widgets/base",
            "_model_module_version": "1.2.0",
            "_model_name": "LayoutModel",
            "_view_count": null,
            "_view_module": "@jupyter-widgets/base",
            "_view_module_version": "1.2.0",
            "_view_name": "LayoutView",
            "align_content": null,
            "align_items": null,
            "align_self": null,
            "border": null,
            "bottom": null,
            "display": null,
            "flex": null,
            "flex_flow": null,
            "grid_area": null,
            "grid_auto_columns": null,
            "grid_auto_flow": null,
            "grid_auto_rows": null,
            "grid_column": null,
            "grid_gap": null,
            "grid_row": null,
            "grid_template_areas": null,
            "grid_template_columns": null,
            "grid_template_rows": null,
            "height": null,
            "justify_content": null,
            "justify_items": null,
            "left": null,
            "margin": null,
            "max_height": null,
            "max_width": null,
            "min_height": null,
            "min_width": null,
            "object_fit": null,
            "object_position": null,
            "order": null,
            "overflow": null,
            "overflow_x": null,
            "overflow_y": null,
            "padding": null,
            "right": null,
            "top": null,
            "visibility": null,
            "width": null
          }
        },
        "95a0d2d723234044ac4cf231676ae225": {
          "model_module": "@jupyter-widgets/controls",
          "model_name": "ProgressStyleModel",
          "model_module_version": "1.5.0",
          "state": {
            "_model_module": "@jupyter-widgets/controls",
            "_model_module_version": "1.5.0",
            "_model_name": "ProgressStyleModel",
            "_view_count": null,
            "_view_module": "@jupyter-widgets/base",
            "_view_module_version": "1.2.0",
            "_view_name": "StyleView",
            "bar_color": null,
            "description_width": ""
          }
        },
        "d579c768a4634cd1884886cc868fbac9": {
          "model_module": "@jupyter-widgets/base",
          "model_name": "LayoutModel",
          "model_module_version": "1.2.0",
          "state": {
            "_model_module": "@jupyter-widgets/base",
            "_model_module_version": "1.2.0",
            "_model_name": "LayoutModel",
            "_view_count": null,
            "_view_module": "@jupyter-widgets/base",
            "_view_module_version": "1.2.0",
            "_view_name": "LayoutView",
            "align_content": null,
            "align_items": null,
            "align_self": null,
            "border": null,
            "bottom": null,
            "display": null,
            "flex": null,
            "flex_flow": null,
            "grid_area": null,
            "grid_auto_columns": null,
            "grid_auto_flow": null,
            "grid_auto_rows": null,
            "grid_column": null,
            "grid_gap": null,
            "grid_row": null,
            "grid_template_areas": null,
            "grid_template_columns": null,
            "grid_template_rows": null,
            "height": null,
            "justify_content": null,
            "justify_items": null,
            "left": null,
            "margin": null,
            "max_height": null,
            "max_width": null,
            "min_height": null,
            "min_width": null,
            "object_fit": null,
            "object_position": null,
            "order": null,
            "overflow": null,
            "overflow_x": null,
            "overflow_y": null,
            "padding": null,
            "right": null,
            "top": null,
            "visibility": null,
            "width": null
          }
        },
        "6aabb50cca544be58bac00bead9c38ac": {
          "model_module": "@jupyter-widgets/controls",
          "model_name": "DescriptionStyleModel",
          "model_module_version": "1.5.0",
          "state": {
            "_model_module": "@jupyter-widgets/controls",
            "_model_module_version": "1.5.0",
            "_model_name": "DescriptionStyleModel",
            "_view_count": null,
            "_view_module": "@jupyter-widgets/base",
            "_view_module_version": "1.2.0",
            "_view_name": "StyleView",
            "description_width": ""
          }
        },
        "8a7bd0d94b8e499fac961adf6fd8fe54": {
          "model_module": "@jupyter-widgets/controls",
          "model_name": "HBoxModel",
          "model_module_version": "1.5.0",
          "state": {
            "_dom_classes": [],
            "_model_module": "@jupyter-widgets/controls",
            "_model_module_version": "1.5.0",
            "_model_name": "HBoxModel",
            "_view_count": null,
            "_view_module": "@jupyter-widgets/controls",
            "_view_module_version": "1.5.0",
            "_view_name": "HBoxView",
            "box_style": "",
            "children": [
              "IPY_MODEL_ee25c2b81cc64a7383181d9fc394661a",
              "IPY_MODEL_525ece34a17d4c4781e172cd7d61430a",
              "IPY_MODEL_dd46c944c80e4b45bc3ae12c0ea5eed8"
            ],
            "layout": "IPY_MODEL_810d4605bb9641cb8bb94474997d360e"
          }
        },
        "ee25c2b81cc64a7383181d9fc394661a": {
          "model_module": "@jupyter-widgets/controls",
          "model_name": "HTMLModel",
          "model_module_version": "1.5.0",
          "state": {
            "_dom_classes": [],
            "_model_module": "@jupyter-widgets/controls",
            "_model_module_version": "1.5.0",
            "_model_name": "HTMLModel",
            "_view_count": null,
            "_view_module": "@jupyter-widgets/controls",
            "_view_module_version": "1.5.0",
            "_view_name": "HTMLView",
            "description": "",
            "description_tooltip": null,
            "layout": "IPY_MODEL_c741afb3cb64441db8af681726236866",
            "placeholder": "​",
            "style": "IPY_MODEL_6e51c5f9339346d9b5d2814a58627921",
            "value": "vocab.txt: 100%"
          }
        },
        "525ece34a17d4c4781e172cd7d61430a": {
          "model_module": "@jupyter-widgets/controls",
          "model_name": "FloatProgressModel",
          "model_module_version": "1.5.0",
          "state": {
            "_dom_classes": [],
            "_model_module": "@jupyter-widgets/controls",
            "_model_module_version": "1.5.0",
            "_model_name": "FloatProgressModel",
            "_view_count": null,
            "_view_module": "@jupyter-widgets/controls",
            "_view_module_version": "1.5.0",
            "_view_name": "ProgressView",
            "bar_style": "success",
            "description": "",
            "description_tooltip": null,
            "layout": "IPY_MODEL_0097d11524b344fbb4113e4d28288576",
            "max": 231508,
            "min": 0,
            "orientation": "horizontal",
            "style": "IPY_MODEL_0db707469f0e4d0e95dd3fbeb9915ac0",
            "value": 231508
          }
        },
        "dd46c944c80e4b45bc3ae12c0ea5eed8": {
          "model_module": "@jupyter-widgets/controls",
          "model_name": "HTMLModel",
          "model_module_version": "1.5.0",
          "state": {
            "_dom_classes": [],
            "_model_module": "@jupyter-widgets/controls",
            "_model_module_version": "1.5.0",
            "_model_name": "HTMLModel",
            "_view_count": null,
            "_view_module": "@jupyter-widgets/controls",
            "_view_module_version": "1.5.0",
            "_view_name": "HTMLView",
            "description": "",
            "description_tooltip": null,
            "layout": "IPY_MODEL_8bdcb8e8ee1a49f6a92cc5d189a15d7a",
            "placeholder": "​",
            "style": "IPY_MODEL_f6b7939973294309a92bc8d1cbcdedd6",
            "value": " 232k/232k [00:00&lt;00:00, 8.71MB/s]"
          }
        },
        "810d4605bb9641cb8bb94474997d360e": {
          "model_module": "@jupyter-widgets/base",
          "model_name": "LayoutModel",
          "model_module_version": "1.2.0",
          "state": {
            "_model_module": "@jupyter-widgets/base",
            "_model_module_version": "1.2.0",
            "_model_name": "LayoutModel",
            "_view_count": null,
            "_view_module": "@jupyter-widgets/base",
            "_view_module_version": "1.2.0",
            "_view_name": "LayoutView",
            "align_content": null,
            "align_items": null,
            "align_self": null,
            "border": null,
            "bottom": null,
            "display": null,
            "flex": null,
            "flex_flow": null,
            "grid_area": null,
            "grid_auto_columns": null,
            "grid_auto_flow": null,
            "grid_auto_rows": null,
            "grid_column": null,
            "grid_gap": null,
            "grid_row": null,
            "grid_template_areas": null,
            "grid_template_columns": null,
            "grid_template_rows": null,
            "height": null,
            "justify_content": null,
            "justify_items": null,
            "left": null,
            "margin": null,
            "max_height": null,
            "max_width": null,
            "min_height": null,
            "min_width": null,
            "object_fit": null,
            "object_position": null,
            "order": null,
            "overflow": null,
            "overflow_x": null,
            "overflow_y": null,
            "padding": null,
            "right": null,
            "top": null,
            "visibility": null,
            "width": null
          }
        },
        "c741afb3cb64441db8af681726236866": {
          "model_module": "@jupyter-widgets/base",
          "model_name": "LayoutModel",
          "model_module_version": "1.2.0",
          "state": {
            "_model_module": "@jupyter-widgets/base",
            "_model_module_version": "1.2.0",
            "_model_name": "LayoutModel",
            "_view_count": null,
            "_view_module": "@jupyter-widgets/base",
            "_view_module_version": "1.2.0",
            "_view_name": "LayoutView",
            "align_content": null,
            "align_items": null,
            "align_self": null,
            "border": null,
            "bottom": null,
            "display": null,
            "flex": null,
            "flex_flow": null,
            "grid_area": null,
            "grid_auto_columns": null,
            "grid_auto_flow": null,
            "grid_auto_rows": null,
            "grid_column": null,
            "grid_gap": null,
            "grid_row": null,
            "grid_template_areas": null,
            "grid_template_columns": null,
            "grid_template_rows": null,
            "height": null,
            "justify_content": null,
            "justify_items": null,
            "left": null,
            "margin": null,
            "max_height": null,
            "max_width": null,
            "min_height": null,
            "min_width": null,
            "object_fit": null,
            "object_position": null,
            "order": null,
            "overflow": null,
            "overflow_x": null,
            "overflow_y": null,
            "padding": null,
            "right": null,
            "top": null,
            "visibility": null,
            "width": null
          }
        },
        "6e51c5f9339346d9b5d2814a58627921": {
          "model_module": "@jupyter-widgets/controls",
          "model_name": "DescriptionStyleModel",
          "model_module_version": "1.5.0",
          "state": {
            "_model_module": "@jupyter-widgets/controls",
            "_model_module_version": "1.5.0",
            "_model_name": "DescriptionStyleModel",
            "_view_count": null,
            "_view_module": "@jupyter-widgets/base",
            "_view_module_version": "1.2.0",
            "_view_name": "StyleView",
            "description_width": ""
          }
        },
        "0097d11524b344fbb4113e4d28288576": {
          "model_module": "@jupyter-widgets/base",
          "model_name": "LayoutModel",
          "model_module_version": "1.2.0",
          "state": {
            "_model_module": "@jupyter-widgets/base",
            "_model_module_version": "1.2.0",
            "_model_name": "LayoutModel",
            "_view_count": null,
            "_view_module": "@jupyter-widgets/base",
            "_view_module_version": "1.2.0",
            "_view_name": "LayoutView",
            "align_content": null,
            "align_items": null,
            "align_self": null,
            "border": null,
            "bottom": null,
            "display": null,
            "flex": null,
            "flex_flow": null,
            "grid_area": null,
            "grid_auto_columns": null,
            "grid_auto_flow": null,
            "grid_auto_rows": null,
            "grid_column": null,
            "grid_gap": null,
            "grid_row": null,
            "grid_template_areas": null,
            "grid_template_columns": null,
            "grid_template_rows": null,
            "height": null,
            "justify_content": null,
            "justify_items": null,
            "left": null,
            "margin": null,
            "max_height": null,
            "max_width": null,
            "min_height": null,
            "min_width": null,
            "object_fit": null,
            "object_position": null,
            "order": null,
            "overflow": null,
            "overflow_x": null,
            "overflow_y": null,
            "padding": null,
            "right": null,
            "top": null,
            "visibility": null,
            "width": null
          }
        },
        "0db707469f0e4d0e95dd3fbeb9915ac0": {
          "model_module": "@jupyter-widgets/controls",
          "model_name": "ProgressStyleModel",
          "model_module_version": "1.5.0",
          "state": {
            "_model_module": "@jupyter-widgets/controls",
            "_model_module_version": "1.5.0",
            "_model_name": "ProgressStyleModel",
            "_view_count": null,
            "_view_module": "@jupyter-widgets/base",
            "_view_module_version": "1.2.0",
            "_view_name": "StyleView",
            "bar_color": null,
            "description_width": ""
          }
        },
        "8bdcb8e8ee1a49f6a92cc5d189a15d7a": {
          "model_module": "@jupyter-widgets/base",
          "model_name": "LayoutModel",
          "model_module_version": "1.2.0",
          "state": {
            "_model_module": "@jupyter-widgets/base",
            "_model_module_version": "1.2.0",
            "_model_name": "LayoutModel",
            "_view_count": null,
            "_view_module": "@jupyter-widgets/base",
            "_view_module_version": "1.2.0",
            "_view_name": "LayoutView",
            "align_content": null,
            "align_items": null,
            "align_self": null,
            "border": null,
            "bottom": null,
            "display": null,
            "flex": null,
            "flex_flow": null,
            "grid_area": null,
            "grid_auto_columns": null,
            "grid_auto_flow": null,
            "grid_auto_rows": null,
            "grid_column": null,
            "grid_gap": null,
            "grid_row": null,
            "grid_template_areas": null,
            "grid_template_columns": null,
            "grid_template_rows": null,
            "height": null,
            "justify_content": null,
            "justify_items": null,
            "left": null,
            "margin": null,
            "max_height": null,
            "max_width": null,
            "min_height": null,
            "min_width": null,
            "object_fit": null,
            "object_position": null,
            "order": null,
            "overflow": null,
            "overflow_x": null,
            "overflow_y": null,
            "padding": null,
            "right": null,
            "top": null,
            "visibility": null,
            "width": null
          }
        },
        "f6b7939973294309a92bc8d1cbcdedd6": {
          "model_module": "@jupyter-widgets/controls",
          "model_name": "DescriptionStyleModel",
          "model_module_version": "1.5.0",
          "state": {
            "_model_module": "@jupyter-widgets/controls",
            "_model_module_version": "1.5.0",
            "_model_name": "DescriptionStyleModel",
            "_view_count": null,
            "_view_module": "@jupyter-widgets/base",
            "_view_module_version": "1.2.0",
            "_view_name": "StyleView",
            "description_width": ""
          }
        },
        "b70270dc59064005bd40d22c44f8cff0": {
          "model_module": "@jupyter-widgets/controls",
          "model_name": "HBoxModel",
          "model_module_version": "1.5.0",
          "state": {
            "_dom_classes": [],
            "_model_module": "@jupyter-widgets/controls",
            "_model_module_version": "1.5.0",
            "_model_name": "HBoxModel",
            "_view_count": null,
            "_view_module": "@jupyter-widgets/controls",
            "_view_module_version": "1.5.0",
            "_view_name": "HBoxView",
            "box_style": "",
            "children": [
              "IPY_MODEL_4c3c2874ab214bd89a22b761521353e3",
              "IPY_MODEL_a134cc151be14a9d8144f5327e361adb",
              "IPY_MODEL_328d902a1d16416ab75d47fd5291881a"
            ],
            "layout": "IPY_MODEL_519aa675eef24e0984a358d45aa6e57e"
          }
        },
        "4c3c2874ab214bd89a22b761521353e3": {
          "model_module": "@jupyter-widgets/controls",
          "model_name": "HTMLModel",
          "model_module_version": "1.5.0",
          "state": {
            "_dom_classes": [],
            "_model_module": "@jupyter-widgets/controls",
            "_model_module_version": "1.5.0",
            "_model_name": "HTMLModel",
            "_view_count": null,
            "_view_module": "@jupyter-widgets/controls",
            "_view_module_version": "1.5.0",
            "_view_name": "HTMLView",
            "description": "",
            "description_tooltip": null,
            "layout": "IPY_MODEL_89a38d6184e64ae8ac168dc77a71f441",
            "placeholder": "​",
            "style": "IPY_MODEL_8c0030b4d76641438d855b912ee8d4ab",
            "value": "tokenizer.json: 100%"
          }
        },
        "a134cc151be14a9d8144f5327e361adb": {
          "model_module": "@jupyter-widgets/controls",
          "model_name": "FloatProgressModel",
          "model_module_version": "1.5.0",
          "state": {
            "_dom_classes": [],
            "_model_module": "@jupyter-widgets/controls",
            "_model_module_version": "1.5.0",
            "_model_name": "FloatProgressModel",
            "_view_count": null,
            "_view_module": "@jupyter-widgets/controls",
            "_view_module_version": "1.5.0",
            "_view_name": "ProgressView",
            "bar_style": "success",
            "description": "",
            "description_tooltip": null,
            "layout": "IPY_MODEL_27d922d9b8784321ba4e5f7c6f8952db",
            "max": 466062,
            "min": 0,
            "orientation": "horizontal",
            "style": "IPY_MODEL_88719241c05d42ab90b4d02268c1bc52",
            "value": 466062
          }
        },
        "328d902a1d16416ab75d47fd5291881a": {
          "model_module": "@jupyter-widgets/controls",
          "model_name": "HTMLModel",
          "model_module_version": "1.5.0",
          "state": {
            "_dom_classes": [],
            "_model_module": "@jupyter-widgets/controls",
            "_model_module_version": "1.5.0",
            "_model_name": "HTMLModel",
            "_view_count": null,
            "_view_module": "@jupyter-widgets/controls",
            "_view_module_version": "1.5.0",
            "_view_name": "HTMLView",
            "description": "",
            "description_tooltip": null,
            "layout": "IPY_MODEL_7699ce79e1b04b11bb80bfa9adb42bc4",
            "placeholder": "​",
            "style": "IPY_MODEL_6e495de40d354d3cbe3266a529c3640e",
            "value": " 466k/466k [00:00&lt;00:00, 2.63MB/s]"
          }
        },
        "519aa675eef24e0984a358d45aa6e57e": {
          "model_module": "@jupyter-widgets/base",
          "model_name": "LayoutModel",
          "model_module_version": "1.2.0",
          "state": {
            "_model_module": "@jupyter-widgets/base",
            "_model_module_version": "1.2.0",
            "_model_name": "LayoutModel",
            "_view_count": null,
            "_view_module": "@jupyter-widgets/base",
            "_view_module_version": "1.2.0",
            "_view_name": "LayoutView",
            "align_content": null,
            "align_items": null,
            "align_self": null,
            "border": null,
            "bottom": null,
            "display": null,
            "flex": null,
            "flex_flow": null,
            "grid_area": null,
            "grid_auto_columns": null,
            "grid_auto_flow": null,
            "grid_auto_rows": null,
            "grid_column": null,
            "grid_gap": null,
            "grid_row": null,
            "grid_template_areas": null,
            "grid_template_columns": null,
            "grid_template_rows": null,
            "height": null,
            "justify_content": null,
            "justify_items": null,
            "left": null,
            "margin": null,
            "max_height": null,
            "max_width": null,
            "min_height": null,
            "min_width": null,
            "object_fit": null,
            "object_position": null,
            "order": null,
            "overflow": null,
            "overflow_x": null,
            "overflow_y": null,
            "padding": null,
            "right": null,
            "top": null,
            "visibility": null,
            "width": null
          }
        },
        "89a38d6184e64ae8ac168dc77a71f441": {
          "model_module": "@jupyter-widgets/base",
          "model_name": "LayoutModel",
          "model_module_version": "1.2.0",
          "state": {
            "_model_module": "@jupyter-widgets/base",
            "_model_module_version": "1.2.0",
            "_model_name": "LayoutModel",
            "_view_count": null,
            "_view_module": "@jupyter-widgets/base",
            "_view_module_version": "1.2.0",
            "_view_name": "LayoutView",
            "align_content": null,
            "align_items": null,
            "align_self": null,
            "border": null,
            "bottom": null,
            "display": null,
            "flex": null,
            "flex_flow": null,
            "grid_area": null,
            "grid_auto_columns": null,
            "grid_auto_flow": null,
            "grid_auto_rows": null,
            "grid_column": null,
            "grid_gap": null,
            "grid_row": null,
            "grid_template_areas": null,
            "grid_template_columns": null,
            "grid_template_rows": null,
            "height": null,
            "justify_content": null,
            "justify_items": null,
            "left": null,
            "margin": null,
            "max_height": null,
            "max_width": null,
            "min_height": null,
            "min_width": null,
            "object_fit": null,
            "object_position": null,
            "order": null,
            "overflow": null,
            "overflow_x": null,
            "overflow_y": null,
            "padding": null,
            "right": null,
            "top": null,
            "visibility": null,
            "width": null
          }
        },
        "8c0030b4d76641438d855b912ee8d4ab": {
          "model_module": "@jupyter-widgets/controls",
          "model_name": "DescriptionStyleModel",
          "model_module_version": "1.5.0",
          "state": {
            "_model_module": "@jupyter-widgets/controls",
            "_model_module_version": "1.5.0",
            "_model_name": "DescriptionStyleModel",
            "_view_count": null,
            "_view_module": "@jupyter-widgets/base",
            "_view_module_version": "1.2.0",
            "_view_name": "StyleView",
            "description_width": ""
          }
        },
        "27d922d9b8784321ba4e5f7c6f8952db": {
          "model_module": "@jupyter-widgets/base",
          "model_name": "LayoutModel",
          "model_module_version": "1.2.0",
          "state": {
            "_model_module": "@jupyter-widgets/base",
            "_model_module_version": "1.2.0",
            "_model_name": "LayoutModel",
            "_view_count": null,
            "_view_module": "@jupyter-widgets/base",
            "_view_module_version": "1.2.0",
            "_view_name": "LayoutView",
            "align_content": null,
            "align_items": null,
            "align_self": null,
            "border": null,
            "bottom": null,
            "display": null,
            "flex": null,
            "flex_flow": null,
            "grid_area": null,
            "grid_auto_columns": null,
            "grid_auto_flow": null,
            "grid_auto_rows": null,
            "grid_column": null,
            "grid_gap": null,
            "grid_row": null,
            "grid_template_areas": null,
            "grid_template_columns": null,
            "grid_template_rows": null,
            "height": null,
            "justify_content": null,
            "justify_items": null,
            "left": null,
            "margin": null,
            "max_height": null,
            "max_width": null,
            "min_height": null,
            "min_width": null,
            "object_fit": null,
            "object_position": null,
            "order": null,
            "overflow": null,
            "overflow_x": null,
            "overflow_y": null,
            "padding": null,
            "right": null,
            "top": null,
            "visibility": null,
            "width": null
          }
        },
        "88719241c05d42ab90b4d02268c1bc52": {
          "model_module": "@jupyter-widgets/controls",
          "model_name": "ProgressStyleModel",
          "model_module_version": "1.5.0",
          "state": {
            "_model_module": "@jupyter-widgets/controls",
            "_model_module_version": "1.5.0",
            "_model_name": "ProgressStyleModel",
            "_view_count": null,
            "_view_module": "@jupyter-widgets/base",
            "_view_module_version": "1.2.0",
            "_view_name": "StyleView",
            "bar_color": null,
            "description_width": ""
          }
        },
        "7699ce79e1b04b11bb80bfa9adb42bc4": {
          "model_module": "@jupyter-widgets/base",
          "model_name": "LayoutModel",
          "model_module_version": "1.2.0",
          "state": {
            "_model_module": "@jupyter-widgets/base",
            "_model_module_version": "1.2.0",
            "_model_name": "LayoutModel",
            "_view_count": null,
            "_view_module": "@jupyter-widgets/base",
            "_view_module_version": "1.2.0",
            "_view_name": "LayoutView",
            "align_content": null,
            "align_items": null,
            "align_self": null,
            "border": null,
            "bottom": null,
            "display": null,
            "flex": null,
            "flex_flow": null,
            "grid_area": null,
            "grid_auto_columns": null,
            "grid_auto_flow": null,
            "grid_auto_rows": null,
            "grid_column": null,
            "grid_gap": null,
            "grid_row": null,
            "grid_template_areas": null,
            "grid_template_columns": null,
            "grid_template_rows": null,
            "height": null,
            "justify_content": null,
            "justify_items": null,
            "left": null,
            "margin": null,
            "max_height": null,
            "max_width": null,
            "min_height": null,
            "min_width": null,
            "object_fit": null,
            "object_position": null,
            "order": null,
            "overflow": null,
            "overflow_x": null,
            "overflow_y": null,
            "padding": null,
            "right": null,
            "top": null,
            "visibility": null,
            "width": null
          }
        },
        "6e495de40d354d3cbe3266a529c3640e": {
          "model_module": "@jupyter-widgets/controls",
          "model_name": "DescriptionStyleModel",
          "model_module_version": "1.5.0",
          "state": {
            "_model_module": "@jupyter-widgets/controls",
            "_model_module_version": "1.5.0",
            "_model_name": "DescriptionStyleModel",
            "_view_count": null,
            "_view_module": "@jupyter-widgets/base",
            "_view_module_version": "1.2.0",
            "_view_name": "StyleView",
            "description_width": ""
          }
        },
        "0206b9f903ab449fac1bc383a8575acd": {
          "model_module": "@jupyter-widgets/controls",
          "model_name": "HBoxModel",
          "model_module_version": "1.5.0",
          "state": {
            "_dom_classes": [],
            "_model_module": "@jupyter-widgets/controls",
            "_model_module_version": "1.5.0",
            "_model_name": "HBoxModel",
            "_view_count": null,
            "_view_module": "@jupyter-widgets/controls",
            "_view_module_version": "1.5.0",
            "_view_name": "HBoxView",
            "box_style": "",
            "children": [
              "IPY_MODEL_dc790464d6fb4dd9be80d68b2f2f279d",
              "IPY_MODEL_bf15c43824024f7aae021ee80b40a893",
              "IPY_MODEL_f6e265809eb0434b901c2258e775b541"
            ],
            "layout": "IPY_MODEL_74ea1d553c6f4d5eb6e8cd11f994c385"
          }
        },
        "dc790464d6fb4dd9be80d68b2f2f279d": {
          "model_module": "@jupyter-widgets/controls",
          "model_name": "HTMLModel",
          "model_module_version": "1.5.0",
          "state": {
            "_dom_classes": [],
            "_model_module": "@jupyter-widgets/controls",
            "_model_module_version": "1.5.0",
            "_model_name": "HTMLModel",
            "_view_count": null,
            "_view_module": "@jupyter-widgets/controls",
            "_view_module_version": "1.5.0",
            "_view_name": "HTMLView",
            "description": "",
            "description_tooltip": null,
            "layout": "IPY_MODEL_eef885ba9e6d4e95a5e8c259590c658d",
            "placeholder": "​",
            "style": "IPY_MODEL_21ca14b2e48a40219afd483c87b7027b",
            "value": "config.json: 100%"
          }
        },
        "bf15c43824024f7aae021ee80b40a893": {
          "model_module": "@jupyter-widgets/controls",
          "model_name": "FloatProgressModel",
          "model_module_version": "1.5.0",
          "state": {
            "_dom_classes": [],
            "_model_module": "@jupyter-widgets/controls",
            "_model_module_version": "1.5.0",
            "_model_name": "FloatProgressModel",
            "_view_count": null,
            "_view_module": "@jupyter-widgets/controls",
            "_view_module_version": "1.5.0",
            "_view_name": "ProgressView",
            "bar_style": "success",
            "description": "",
            "description_tooltip": null,
            "layout": "IPY_MODEL_db4eacadfbb44974847004772cdb64de",
            "max": 570,
            "min": 0,
            "orientation": "horizontal",
            "style": "IPY_MODEL_bf3d1d535bbd4914977b90baa8a57c28",
            "value": 570
          }
        },
        "f6e265809eb0434b901c2258e775b541": {
          "model_module": "@jupyter-widgets/controls",
          "model_name": "HTMLModel",
          "model_module_version": "1.5.0",
          "state": {
            "_dom_classes": [],
            "_model_module": "@jupyter-widgets/controls",
            "_model_module_version": "1.5.0",
            "_model_name": "HTMLModel",
            "_view_count": null,
            "_view_module": "@jupyter-widgets/controls",
            "_view_module_version": "1.5.0",
            "_view_name": "HTMLView",
            "description": "",
            "description_tooltip": null,
            "layout": "IPY_MODEL_2db2c9ebed4c488fb5748efd90ce4fb5",
            "placeholder": "​",
            "style": "IPY_MODEL_e289cf54ea7a4ff5a46156fa65e73cea",
            "value": " 570/570 [00:00&lt;00:00, 45.3kB/s]"
          }
        },
        "74ea1d553c6f4d5eb6e8cd11f994c385": {
          "model_module": "@jupyter-widgets/base",
          "model_name": "LayoutModel",
          "model_module_version": "1.2.0",
          "state": {
            "_model_module": "@jupyter-widgets/base",
            "_model_module_version": "1.2.0",
            "_model_name": "LayoutModel",
            "_view_count": null,
            "_view_module": "@jupyter-widgets/base",
            "_view_module_version": "1.2.0",
            "_view_name": "LayoutView",
            "align_content": null,
            "align_items": null,
            "align_self": null,
            "border": null,
            "bottom": null,
            "display": null,
            "flex": null,
            "flex_flow": null,
            "grid_area": null,
            "grid_auto_columns": null,
            "grid_auto_flow": null,
            "grid_auto_rows": null,
            "grid_column": null,
            "grid_gap": null,
            "grid_row": null,
            "grid_template_areas": null,
            "grid_template_columns": null,
            "grid_template_rows": null,
            "height": null,
            "justify_content": null,
            "justify_items": null,
            "left": null,
            "margin": null,
            "max_height": null,
            "max_width": null,
            "min_height": null,
            "min_width": null,
            "object_fit": null,
            "object_position": null,
            "order": null,
            "overflow": null,
            "overflow_x": null,
            "overflow_y": null,
            "padding": null,
            "right": null,
            "top": null,
            "visibility": null,
            "width": null
          }
        },
        "eef885ba9e6d4e95a5e8c259590c658d": {
          "model_module": "@jupyter-widgets/base",
          "model_name": "LayoutModel",
          "model_module_version": "1.2.0",
          "state": {
            "_model_module": "@jupyter-widgets/base",
            "_model_module_version": "1.2.0",
            "_model_name": "LayoutModel",
            "_view_count": null,
            "_view_module": "@jupyter-widgets/base",
            "_view_module_version": "1.2.0",
            "_view_name": "LayoutView",
            "align_content": null,
            "align_items": null,
            "align_self": null,
            "border": null,
            "bottom": null,
            "display": null,
            "flex": null,
            "flex_flow": null,
            "grid_area": null,
            "grid_auto_columns": null,
            "grid_auto_flow": null,
            "grid_auto_rows": null,
            "grid_column": null,
            "grid_gap": null,
            "grid_row": null,
            "grid_template_areas": null,
            "grid_template_columns": null,
            "grid_template_rows": null,
            "height": null,
            "justify_content": null,
            "justify_items": null,
            "left": null,
            "margin": null,
            "max_height": null,
            "max_width": null,
            "min_height": null,
            "min_width": null,
            "object_fit": null,
            "object_position": null,
            "order": null,
            "overflow": null,
            "overflow_x": null,
            "overflow_y": null,
            "padding": null,
            "right": null,
            "top": null,
            "visibility": null,
            "width": null
          }
        },
        "21ca14b2e48a40219afd483c87b7027b": {
          "model_module": "@jupyter-widgets/controls",
          "model_name": "DescriptionStyleModel",
          "model_module_version": "1.5.0",
          "state": {
            "_model_module": "@jupyter-widgets/controls",
            "_model_module_version": "1.5.0",
            "_model_name": "DescriptionStyleModel",
            "_view_count": null,
            "_view_module": "@jupyter-widgets/base",
            "_view_module_version": "1.2.0",
            "_view_name": "StyleView",
            "description_width": ""
          }
        },
        "db4eacadfbb44974847004772cdb64de": {
          "model_module": "@jupyter-widgets/base",
          "model_name": "LayoutModel",
          "model_module_version": "1.2.0",
          "state": {
            "_model_module": "@jupyter-widgets/base",
            "_model_module_version": "1.2.0",
            "_model_name": "LayoutModel",
            "_view_count": null,
            "_view_module": "@jupyter-widgets/base",
            "_view_module_version": "1.2.0",
            "_view_name": "LayoutView",
            "align_content": null,
            "align_items": null,
            "align_self": null,
            "border": null,
            "bottom": null,
            "display": null,
            "flex": null,
            "flex_flow": null,
            "grid_area": null,
            "grid_auto_columns": null,
            "grid_auto_flow": null,
            "grid_auto_rows": null,
            "grid_column": null,
            "grid_gap": null,
            "grid_row": null,
            "grid_template_areas": null,
            "grid_template_columns": null,
            "grid_template_rows": null,
            "height": null,
            "justify_content": null,
            "justify_items": null,
            "left": null,
            "margin": null,
            "max_height": null,
            "max_width": null,
            "min_height": null,
            "min_width": null,
            "object_fit": null,
            "object_position": null,
            "order": null,
            "overflow": null,
            "overflow_x": null,
            "overflow_y": null,
            "padding": null,
            "right": null,
            "top": null,
            "visibility": null,
            "width": null
          }
        },
        "bf3d1d535bbd4914977b90baa8a57c28": {
          "model_module": "@jupyter-widgets/controls",
          "model_name": "ProgressStyleModel",
          "model_module_version": "1.5.0",
          "state": {
            "_model_module": "@jupyter-widgets/controls",
            "_model_module_version": "1.5.0",
            "_model_name": "ProgressStyleModel",
            "_view_count": null,
            "_view_module": "@jupyter-widgets/base",
            "_view_module_version": "1.2.0",
            "_view_name": "StyleView",
            "bar_color": null,
            "description_width": ""
          }
        },
        "2db2c9ebed4c488fb5748efd90ce4fb5": {
          "model_module": "@jupyter-widgets/base",
          "model_name": "LayoutModel",
          "model_module_version": "1.2.0",
          "state": {
            "_model_module": "@jupyter-widgets/base",
            "_model_module_version": "1.2.0",
            "_model_name": "LayoutModel",
            "_view_count": null,
            "_view_module": "@jupyter-widgets/base",
            "_view_module_version": "1.2.0",
            "_view_name": "LayoutView",
            "align_content": null,
            "align_items": null,
            "align_self": null,
            "border": null,
            "bottom": null,
            "display": null,
            "flex": null,
            "flex_flow": null,
            "grid_area": null,
            "grid_auto_columns": null,
            "grid_auto_flow": null,
            "grid_auto_rows": null,
            "grid_column": null,
            "grid_gap": null,
            "grid_row": null,
            "grid_template_areas": null,
            "grid_template_columns": null,
            "grid_template_rows": null,
            "height": null,
            "justify_content": null,
            "justify_items": null,
            "left": null,
            "margin": null,
            "max_height": null,
            "max_width": null,
            "min_height": null,
            "min_width": null,
            "object_fit": null,
            "object_position": null,
            "order": null,
            "overflow": null,
            "overflow_x": null,
            "overflow_y": null,
            "padding": null,
            "right": null,
            "top": null,
            "visibility": null,
            "width": null
          }
        },
        "e289cf54ea7a4ff5a46156fa65e73cea": {
          "model_module": "@jupyter-widgets/controls",
          "model_name": "DescriptionStyleModel",
          "model_module_version": "1.5.0",
          "state": {
            "_model_module": "@jupyter-widgets/controls",
            "_model_module_version": "1.5.0",
            "_model_name": "DescriptionStyleModel",
            "_view_count": null,
            "_view_module": "@jupyter-widgets/base",
            "_view_module_version": "1.2.0",
            "_view_name": "StyleView",
            "description_width": ""
          }
        }
      }
    }
  },
  "cells": [
    {
      "cell_type": "code",
      "source": [
        "!pip install transformers # if not already installed"
      ],
      "metadata": {
        "id": "WriXV7SIwg0G"
      },
      "execution_count": null,
      "outputs": []
    },
    {
      "cell_type": "code",
      "source": [
        "import os\n",
        "import re\n",
        "import pandas as pd\n",
        "import numpy as np\n",
        "from sklearn.model_selection import train_test_split\n",
        "from sklearn.feature_extraction.text import TfidfVectorizer\n",
        "from sklearn.svm import SVC\n",
        "from sklearn.metrics import accuracy_score, precision_recall_fscore_support, classification_report\n",
        "from sklearn.naive_bayes import MultinomialNB\n",
        "from xgboost import XGBClassifier\n",
        "from sklearn.ensemble import RandomForestClassifier\n",
        "import torch\n",
        "import transformers\n",
        "import nltk\n",
        "from transformers import BertTokenizer, BertForSequenceClassification, AdamW, get_linear_schedule_with_warmup\n",
        "from torch.utils.data import DataLoader, TensorDataset, RandomSampler, SequentialSampler\n",
        "from nltk.corpus import stopwords\n",
        "import joblib\n"
      ],
      "metadata": {
        "id": "DNKe-c2qqIZF"
      },
      "execution_count": 52,
      "outputs": []
    },
    {
      "cell_type": "code",
      "source": [
        "device = 'cuda' if torch.cuda.is_available() else 'cpu'"
      ],
      "metadata": {
        "id": "jVlY_HBi7OLJ"
      },
      "execution_count": 2,
      "outputs": []
    },
    {
      "cell_type": "code",
      "source": [
        "# mounting google drive\n",
        "from google.colab import drive\n",
        "drive.mount('/content/drive')"
      ],
      "metadata": {
        "id": "DX27AD0yqNNR",
        "colab": {
          "base_uri": "https://localhost:8080/"
        },
        "outputId": "b961a028-5309-4656-f01c-3d0a101f6c54"
      },
      "execution_count": 3,
      "outputs": [
        {
          "output_type": "stream",
          "name": "stdout",
          "text": [
            "Mounted at /content/drive\n"
          ]
        }
      ]
    },
    {
      "cell_type": "code",
      "source": [
        "# Data Loading\n",
        "path = '/content/drive/My Drive/Intensity_data/'\n",
        "\n",
        "# Load the CSV files into pandas DataFrames\n",
        "angriness_df = pd.read_csv(os.path.join(path, 'angriness.csv'))\n",
        "happiness_df = pd.read_csv(os.path.join(path, 'happiness.csv'))\n",
        "sadness_df = pd.read_csv(os.path.join(path, 'sadness.csv'))\n",
        "\n",
        "# Display the data to check the content\n",
        "print(angriness_df.head())\n",
        "print('-'*75)\n",
        "print(happiness_df.head())\n",
        "print('-'*75)\n",
        "print(sadness_df.head())"
      ],
      "metadata": {
        "id": "lb-ZnygJqNQA",
        "colab": {
          "base_uri": "https://localhost:8080/"
        },
        "outputId": "65b7a58b-5c8f-49b7-8916-169100017215"
      },
      "execution_count": 4,
      "outputs": [
        {
          "output_type": "stream",
          "name": "stdout",
          "text": [
            "                                             content  intensity\n",
            "0  Sometimes I’m not angry, I’m hurt and there’s ...  angriness\n",
            "1                     Not available for busy people☺  angriness\n",
            "2  I do not exist to impress the world. I exist t...  angriness\n",
            "3  Everything is getting expensive except some pe...  angriness\n",
            "4       My phone screen is brighter than my future 🙁  angriness\n",
            "---------------------------------------------------------------------------\n",
            "                                             content  intensity\n",
            "0  Wants to know how the hell I can remember word...  happiness\n",
            "1  Love is a long sweet dream & marriage is an al...  happiness\n",
            "2  The world could be amazing when you are slight...  happiness\n",
            "3  My secret talent is getting tired without doin...  happiness\n",
            "4  Khatarnaak Whatsapp Status Ever… Can\\’t talk, ...  happiness\n",
            "---------------------------------------------------------------------------\n",
            "                                             content intensity\n",
            "0  Never hurt people who love you a lot, because ...   sadness\n",
            "1  Don’t expect me to tell you what you did wrong...   sadness\n",
            "2  I preferred walking away than fighting for you...   sadness\n",
            "3  Moving forward in life isn’t the hard part, it...   sadness\n",
            "4  Never cry for anyone in your life, because tho...   sadness\n"
          ]
        }
      ]
    },
    {
      "cell_type": "code",
      "source": [
        "print(angriness_df.shape)\n",
        "print(angriness_df.columns)"
      ],
      "metadata": {
        "id": "ly6MbNCMqNSl",
        "colab": {
          "base_uri": "https://localhost:8080/"
        },
        "outputId": "bcefcc57-e0eb-419f-8d35-03a1d273967b"
      },
      "execution_count": 5,
      "outputs": [
        {
          "output_type": "stream",
          "name": "stdout",
          "text": [
            "(696, 2)\n",
            "Index(['content', 'intensity'], dtype='object')\n"
          ]
        }
      ]
    },
    {
      "cell_type": "code",
      "source": [
        "print(happiness_df.shape)\n",
        "print(happiness_df.columns)"
      ],
      "metadata": {
        "id": "m_i2fO8JqNcA",
        "colab": {
          "base_uri": "https://localhost:8080/"
        },
        "outputId": "054f9656-60b1-4049-8465-4b2359224ad6"
      },
      "execution_count": 6,
      "outputs": [
        {
          "output_type": "stream",
          "name": "stdout",
          "text": [
            "(708, 2)\n",
            "Index(['content', 'intensity'], dtype='object')\n"
          ]
        }
      ]
    },
    {
      "cell_type": "code",
      "source": [
        "print(sadness_df.shape)\n",
        "print(sadness_df.columns)"
      ],
      "metadata": {
        "colab": {
          "base_uri": "https://localhost:8080/"
        },
        "id": "yiKpKoopx25u",
        "outputId": "9cd889d1-adff-4b96-bb1e-64b4b0bd5370"
      },
      "execution_count": 7,
      "outputs": [
        {
          "output_type": "stream",
          "name": "stdout",
          "text": [
            "(635, 2)\n",
            "Index(['content', 'intensity'], dtype='object')\n"
          ]
        }
      ]
    },
    {
      "cell_type": "code",
      "source": [
        "# Add a label column for each DataFrame\n",
        "angriness_df['label'] = 0  # Label for angriness\n",
        "happiness_df['label'] = 1  # Label for happiness\n",
        "sadness_df['label'] = 2    # Label for sadness\n",
        "\n",
        "print(angriness_df.shape)\n",
        "print(happiness_df.shape)\n",
        "print(sadness_df.shape)"
      ],
      "metadata": {
        "colab": {
          "base_uri": "https://localhost:8080/"
        },
        "id": "sIlY6vRyx9j4",
        "outputId": "cb7713ac-69bc-4b5b-d0c0-eae725c0845c"
      },
      "execution_count": 8,
      "outputs": [
        {
          "output_type": "stream",
          "name": "stdout",
          "text": [
            "(696, 3)\n",
            "(708, 3)\n",
            "(635, 3)\n"
          ]
        }
      ]
    },
    {
      "cell_type": "code",
      "source": [
        "# Combine the DataFrames\n",
        "df = pd.concat([angriness_df, happiness_df, sadness_df])\n",
        "\n",
        "# Shuffle the DataFrame\n",
        "df = df.sample(frac=1).reset_index(drop=True)\n",
        "\n",
        "# Display the combined DataFrame\n",
        "print(df.head())"
      ],
      "metadata": {
        "colab": {
          "base_uri": "https://localhost:8080/"
        },
        "id": "o1qDTERjx9mn",
        "outputId": "6656a38c-7b21-4206-e14e-f1e648caff75"
      },
      "execution_count": 9,
      "outputs": [
        {
          "output_type": "stream",
          "name": "stdout",
          "text": [
            "                                             content  intensity  label\n",
            "0  Don't be much closer to anybody because a smal...    sadness      2\n",
            "1          Anger is only one letter short of Danger.  angriness      0\n",
            "2  If I tell you \"I love you\" then I actually do ...  happiness      1\n",
            "3  Success seems to be connected with action. Suc...  happiness      1\n",
            "4  I hate that I cry when I’m frustrated because ...  angriness      0\n"
          ]
        }
      ]
    },
    {
      "cell_type": "code",
      "source": [
        "# finding missing values if any\n",
        "df.isna().sum()\n",
        "# df.shape"
      ],
      "metadata": {
        "colab": {
          "base_uri": "https://localhost:8080/"
        },
        "id": "OfNhfVIZx9pZ",
        "outputId": "586f84b8-e21d-40f2-af22-9e3bc261e279"
      },
      "execution_count": 10,
      "outputs": [
        {
          "output_type": "execute_result",
          "data": {
            "text/plain": [
              "content      0\n",
              "intensity    0\n",
              "label        0\n",
              "dtype: int64"
            ]
          },
          "metadata": {},
          "execution_count": 10
        }
      ]
    },
    {
      "cell_type": "code",
      "source": [
        "\n",
        "def clean_text(text):\n",
        "    text = re.sub(r'http\\S+', '', text)  # Remove URLs\n",
        "    text = re.sub(r'<.*?>', '', text)    # Remove HTML tags\n",
        "    text = re.sub(r'[^A-Za-z0-9 ]+', '', text)  # Remove special characters\n",
        "    text = text.lower()  # Convert to lowercase\n",
        "    return text\n",
        "\n",
        "df['content'] = df['content'].apply(clean_text)"
      ],
      "metadata": {
        "id": "ISg-uaXJ0VNW"
      },
      "execution_count": 23,
      "outputs": []
    },
    {
      "cell_type": "code",
      "source": [
        "nltk.download('stopwords')\n",
        "stop_words = set(stopwords.words('english'))\n",
        "\n",
        "def remove_stopwords(text):\n",
        "    return ' '.join([word for word in text.split() if word not in stop_words])\n",
        "\n",
        "df['content'] = df['content'].apply(remove_stopwords)"
      ],
      "metadata": {
        "colab": {
          "base_uri": "https://localhost:8080/"
        },
        "id": "s2ihQn490VP-",
        "outputId": "6a97b992-7c56-4c64-cb28-4a7de6726390"
      },
      "execution_count": 24,
      "outputs": [
        {
          "output_type": "stream",
          "name": "stderr",
          "text": [
            "[nltk_data] Downloading package stopwords to /root/nltk_data...\n",
            "[nltk_data]   Unzipping corpora/stopwords.zip.\n"
          ]
        }
      ]
    },
    {
      "cell_type": "code",
      "source": [
        "X = df['content']\n",
        "y = df['label']\n",
        "X_train, X_test, y_train, y_test = train_test_split(X, y, test_size=0.2, random_state=42, stratify=y)"
      ],
      "metadata": {
        "id": "gAp0jceqi2AV"
      },
      "execution_count": 28,
      "outputs": []
    },
    {
      "cell_type": "code",
      "source": [
        "# Vectorize text data using TF-IDF\n",
        "vectorizer = TfidfVectorizer(max_features=5000)\n",
        "X_train_tfidf = vectorizer.fit_transform(X_train)\n",
        "X_test_tfidf = vectorizer.transform(X_test)"
      ],
      "metadata": {
        "id": "2HYWItHli2DD"
      },
      "execution_count": 29,
      "outputs": []
    },
    {
      "cell_type": "code",
      "source": [
        "# Train the SVM model\n",
        "svm_model = SVC(kernel='linear', C=1.0, random_state=42)\n",
        "svm_model.fit(X_train_tfidf, y_train)\n"
      ],
      "metadata": {
        "colab": {
          "base_uri": "https://localhost:8080/",
          "height": 74
        },
        "id": "_0pKrNYIi2Fu",
        "outputId": "441be68c-77a8-4abb-8f06-fe16b09c4870"
      },
      "execution_count": 30,
      "outputs": [
        {
          "output_type": "execute_result",
          "data": {
            "text/plain": [
              "SVC(kernel='linear', random_state=42)"
            ],
            "text/html": [
              "<style>#sk-container-id-3 {color: black;background-color: white;}#sk-container-id-3 pre{padding: 0;}#sk-container-id-3 div.sk-toggleable {background-color: white;}#sk-container-id-3 label.sk-toggleable__label {cursor: pointer;display: block;width: 100%;margin-bottom: 0;padding: 0.3em;box-sizing: border-box;text-align: center;}#sk-container-id-3 label.sk-toggleable__label-arrow:before {content: \"▸\";float: left;margin-right: 0.25em;color: #696969;}#sk-container-id-3 label.sk-toggleable__label-arrow:hover:before {color: black;}#sk-container-id-3 div.sk-estimator:hover label.sk-toggleable__label-arrow:before {color: black;}#sk-container-id-3 div.sk-toggleable__content {max-height: 0;max-width: 0;overflow: hidden;text-align: left;background-color: #f0f8ff;}#sk-container-id-3 div.sk-toggleable__content pre {margin: 0.2em;color: black;border-radius: 0.25em;background-color: #f0f8ff;}#sk-container-id-3 input.sk-toggleable__control:checked~div.sk-toggleable__content {max-height: 200px;max-width: 100%;overflow: auto;}#sk-container-id-3 input.sk-toggleable__control:checked~label.sk-toggleable__label-arrow:before {content: \"▾\";}#sk-container-id-3 div.sk-estimator input.sk-toggleable__control:checked~label.sk-toggleable__label {background-color: #d4ebff;}#sk-container-id-3 div.sk-label input.sk-toggleable__control:checked~label.sk-toggleable__label {background-color: #d4ebff;}#sk-container-id-3 input.sk-hidden--visually {border: 0;clip: rect(1px 1px 1px 1px);clip: rect(1px, 1px, 1px, 1px);height: 1px;margin: -1px;overflow: hidden;padding: 0;position: absolute;width: 1px;}#sk-container-id-3 div.sk-estimator {font-family: monospace;background-color: #f0f8ff;border: 1px dotted black;border-radius: 0.25em;box-sizing: border-box;margin-bottom: 0.5em;}#sk-container-id-3 div.sk-estimator:hover {background-color: #d4ebff;}#sk-container-id-3 div.sk-parallel-item::after {content: \"\";width: 100%;border-bottom: 1px solid gray;flex-grow: 1;}#sk-container-id-3 div.sk-label:hover label.sk-toggleable__label {background-color: #d4ebff;}#sk-container-id-3 div.sk-serial::before {content: \"\";position: absolute;border-left: 1px solid gray;box-sizing: border-box;top: 0;bottom: 0;left: 50%;z-index: 0;}#sk-container-id-3 div.sk-serial {display: flex;flex-direction: column;align-items: center;background-color: white;padding-right: 0.2em;padding-left: 0.2em;position: relative;}#sk-container-id-3 div.sk-item {position: relative;z-index: 1;}#sk-container-id-3 div.sk-parallel {display: flex;align-items: stretch;justify-content: center;background-color: white;position: relative;}#sk-container-id-3 div.sk-item::before, #sk-container-id-3 div.sk-parallel-item::before {content: \"\";position: absolute;border-left: 1px solid gray;box-sizing: border-box;top: 0;bottom: 0;left: 50%;z-index: -1;}#sk-container-id-3 div.sk-parallel-item {display: flex;flex-direction: column;z-index: 1;position: relative;background-color: white;}#sk-container-id-3 div.sk-parallel-item:first-child::after {align-self: flex-end;width: 50%;}#sk-container-id-3 div.sk-parallel-item:last-child::after {align-self: flex-start;width: 50%;}#sk-container-id-3 div.sk-parallel-item:only-child::after {width: 0;}#sk-container-id-3 div.sk-dashed-wrapped {border: 1px dashed gray;margin: 0 0.4em 0.5em 0.4em;box-sizing: border-box;padding-bottom: 0.4em;background-color: white;}#sk-container-id-3 div.sk-label label {font-family: monospace;font-weight: bold;display: inline-block;line-height: 1.2em;}#sk-container-id-3 div.sk-label-container {text-align: center;}#sk-container-id-3 div.sk-container {/* jupyter's `normalize.less` sets `[hidden] { display: none; }` but bootstrap.min.css set `[hidden] { display: none !important; }` so we also need the `!important` here to be able to override the default hidden behavior on the sphinx rendered scikit-learn.org. See: https://github.com/scikit-learn/scikit-learn/issues/21755 */display: inline-block !important;position: relative;}#sk-container-id-3 div.sk-text-repr-fallback {display: none;}</style><div id=\"sk-container-id-3\" class=\"sk-top-container\"><div class=\"sk-text-repr-fallback\"><pre>SVC(kernel=&#x27;linear&#x27;, random_state=42)</pre><b>In a Jupyter environment, please rerun this cell to show the HTML representation or trust the notebook. <br />On GitHub, the HTML representation is unable to render, please try loading this page with nbviewer.org.</b></div><div class=\"sk-container\" hidden><div class=\"sk-item\"><div class=\"sk-estimator sk-toggleable\"><input class=\"sk-toggleable__control sk-hidden--visually\" id=\"sk-estimator-id-3\" type=\"checkbox\" checked><label for=\"sk-estimator-id-3\" class=\"sk-toggleable__label sk-toggleable__label-arrow\">SVC</label><div class=\"sk-toggleable__content\"><pre>SVC(kernel=&#x27;linear&#x27;, random_state=42)</pre></div></div></div></div></div>"
            ]
          },
          "metadata": {},
          "execution_count": 30
        }
      ]
    },
    {
      "cell_type": "code",
      "source": [
        "# Predict on the test set\n",
        "y_pred = svm_model.predict(X_test_tfidf)\n",
        "\n",
        "# Evaluate the model\n",
        "print(classification_report(y_test, y_pred))\n"
      ],
      "metadata": {
        "colab": {
          "base_uri": "https://localhost:8080/"
        },
        "id": "Jt2SLjHPi2IS",
        "outputId": "e3ecd289-e660-457f-d328-c6348209f30f"
      },
      "execution_count": 31,
      "outputs": [
        {
          "output_type": "stream",
          "name": "stdout",
          "text": [
            "              precision    recall  f1-score   support\n",
            "\n",
            "           0       0.74      0.80      0.77       139\n",
            "           1       0.75      0.75      0.75       142\n",
            "           2       0.81      0.73      0.77       127\n",
            "\n",
            "    accuracy                           0.76       408\n",
            "   macro avg       0.76      0.76      0.76       408\n",
            "weighted avg       0.76      0.76      0.76       408\n",
            "\n"
          ]
        }
      ]
    },
    {
      "cell_type": "code",
      "source": [
        "# Save the model and vectorizer\n",
        "joblib.dump(svm_model, 'svm_intensity_model.pkl')\n",
        "joblib.dump(vectorizer, 'tfidf_vectorizer.pkl')\n",
        "\n",
        "model_save_path = '/content/drive/My Drive/svm_intensity_model.pkl'\n",
        "\n",
        "# Save the XGBoost model\n",
        "joblib.dump(svm_model, model_save_path)\n"
      ],
      "metadata": {
        "colab": {
          "base_uri": "https://localhost:8080/"
        },
        "id": "2s3l5q2Di2K8",
        "outputId": "2613a84b-9406-47be-d516-453d2c3b2190"
      },
      "execution_count": 57,
      "outputs": [
        {
          "output_type": "execute_result",
          "data": {
            "text/plain": [
              "['/content/drive/My Drive/svm_intensity_model.pkl']"
            ]
          },
          "metadata": {},
          "execution_count": 57
        }
      ]
    },
    {
      "cell_type": "code",
      "source": [
        "test_sentences = [\n",
        "    \"I am very happy with the service!\",\n",
        "    \"This is the worst experience I've ever had.\",\n",
        "    \"I feel so sad and disappointed with the outcome.\",\n",
        "    \"The product quality is amazing and I'm extremely satisfied!\",\n",
        "    \"I'm angry because my order was not delivered on time.\",\n",
        "    \"I am overjoyed with the support I received!\",\n",
        "    \"This is terrible, I am very upset.\",\n",
        "    \"I couldn't be happier with my purchase.\",\n",
        "    \"I'm feeling very down and nothing seems to help.\",\n",
        "    \"The experience was okay, nothing special.\"\n",
        "]"
      ],
      "metadata": {
        "id": "3WsLDn8ezA8m"
      },
      "execution_count": 58,
      "outputs": []
    },
    {
      "cell_type": "code",
      "source": [
        "# Load the model and vectorizer for deployment\n",
        "# svm_model = joblib.load('svm_intensity_model.pkl')\n",
        "# vectorizer = joblib.load('tfidf_vectorizer.pkl')\n",
        "\n",
        "def predict_intensity_rf(text):\n",
        "    text = clean_text(text)\n",
        "    text = remove_stopwords(text)\n",
        "    text_tfidf = vectorizer.transform([text])\n",
        "    prediction = svm_model.predict(text_tfidf)\n",
        "    return prediction[0]\n",
        "\n",
        "# Predict intensities for example sentences with Random Forest model\n",
        "for sentence in test_sentences:\n",
        "    intensity = predict_intensity_rf(sentence)\n",
        "    print(f\"Sentence: {sentence}\\nPredicted Intensity: {intensity}\\n\")\n"
      ],
      "metadata": {
        "colab": {
          "base_uri": "https://localhost:8080/"
        },
        "id": "IeP5NRfai2Pu",
        "outputId": "c9740c62-bf99-4ad3-b61d-2eef9788b153"
      },
      "execution_count": 59,
      "outputs": [
        {
          "output_type": "stream",
          "name": "stdout",
          "text": [
            "Sentence: I am very happy with the service!\n",
            "Predicted Intensity: 1\n",
            "\n",
            "Sentence: This is the worst experience I've ever had.\n",
            "Predicted Intensity: 0\n",
            "\n",
            "Sentence: I feel so sad and disappointed with the outcome.\n",
            "Predicted Intensity: 2\n",
            "\n",
            "Sentence: The product quality is amazing and I'm extremely satisfied!\n",
            "Predicted Intensity: 1\n",
            "\n",
            "Sentence: I'm angry because my order was not delivered on time.\n",
            "Predicted Intensity: 0\n",
            "\n",
            "Sentence: I am overjoyed with the support I received!\n",
            "Predicted Intensity: 1\n",
            "\n",
            "Sentence: This is terrible, I am very upset.\n",
            "Predicted Intensity: 1\n",
            "\n",
            "Sentence: I couldn't be happier with my purchase.\n",
            "Predicted Intensity: 0\n",
            "\n",
            "Sentence: I'm feeling very down and nothing seems to help.\n",
            "Predicted Intensity: 0\n",
            "\n",
            "Sentence: The experience was okay, nothing special.\n",
            "Predicted Intensity: 0\n",
            "\n"
          ]
        }
      ]
    },
    {
      "cell_type": "markdown",
      "source": [
        "**Training with Naive_Bayes model**"
      ],
      "metadata": {
        "id": "oUhBUh9rmmn_"
      }
    },
    {
      "cell_type": "code",
      "source": [
        "# Train the Naive Bayes model\n",
        "nb_model = MultinomialNB()\n",
        "nb_model.fit(X_train_tfidf, y_train)\n"
      ],
      "metadata": {
        "colab": {
          "base_uri": "https://localhost:8080/",
          "height": 74
        },
        "id": "H3uLABuVi2Ss",
        "outputId": "82870534-adaa-47af-bf90-3e7926ff75b3"
      },
      "execution_count": 35,
      "outputs": [
        {
          "output_type": "execute_result",
          "data": {
            "text/plain": [
              "MultinomialNB()"
            ],
            "text/html": [
              "<style>#sk-container-id-4 {color: black;background-color: white;}#sk-container-id-4 pre{padding: 0;}#sk-container-id-4 div.sk-toggleable {background-color: white;}#sk-container-id-4 label.sk-toggleable__label {cursor: pointer;display: block;width: 100%;margin-bottom: 0;padding: 0.3em;box-sizing: border-box;text-align: center;}#sk-container-id-4 label.sk-toggleable__label-arrow:before {content: \"▸\";float: left;margin-right: 0.25em;color: #696969;}#sk-container-id-4 label.sk-toggleable__label-arrow:hover:before {color: black;}#sk-container-id-4 div.sk-estimator:hover label.sk-toggleable__label-arrow:before {color: black;}#sk-container-id-4 div.sk-toggleable__content {max-height: 0;max-width: 0;overflow: hidden;text-align: left;background-color: #f0f8ff;}#sk-container-id-4 div.sk-toggleable__content pre {margin: 0.2em;color: black;border-radius: 0.25em;background-color: #f0f8ff;}#sk-container-id-4 input.sk-toggleable__control:checked~div.sk-toggleable__content {max-height: 200px;max-width: 100%;overflow: auto;}#sk-container-id-4 input.sk-toggleable__control:checked~label.sk-toggleable__label-arrow:before {content: \"▾\";}#sk-container-id-4 div.sk-estimator input.sk-toggleable__control:checked~label.sk-toggleable__label {background-color: #d4ebff;}#sk-container-id-4 div.sk-label input.sk-toggleable__control:checked~label.sk-toggleable__label {background-color: #d4ebff;}#sk-container-id-4 input.sk-hidden--visually {border: 0;clip: rect(1px 1px 1px 1px);clip: rect(1px, 1px, 1px, 1px);height: 1px;margin: -1px;overflow: hidden;padding: 0;position: absolute;width: 1px;}#sk-container-id-4 div.sk-estimator {font-family: monospace;background-color: #f0f8ff;border: 1px dotted black;border-radius: 0.25em;box-sizing: border-box;margin-bottom: 0.5em;}#sk-container-id-4 div.sk-estimator:hover {background-color: #d4ebff;}#sk-container-id-4 div.sk-parallel-item::after {content: \"\";width: 100%;border-bottom: 1px solid gray;flex-grow: 1;}#sk-container-id-4 div.sk-label:hover label.sk-toggleable__label {background-color: #d4ebff;}#sk-container-id-4 div.sk-serial::before {content: \"\";position: absolute;border-left: 1px solid gray;box-sizing: border-box;top: 0;bottom: 0;left: 50%;z-index: 0;}#sk-container-id-4 div.sk-serial {display: flex;flex-direction: column;align-items: center;background-color: white;padding-right: 0.2em;padding-left: 0.2em;position: relative;}#sk-container-id-4 div.sk-item {position: relative;z-index: 1;}#sk-container-id-4 div.sk-parallel {display: flex;align-items: stretch;justify-content: center;background-color: white;position: relative;}#sk-container-id-4 div.sk-item::before, #sk-container-id-4 div.sk-parallel-item::before {content: \"\";position: absolute;border-left: 1px solid gray;box-sizing: border-box;top: 0;bottom: 0;left: 50%;z-index: -1;}#sk-container-id-4 div.sk-parallel-item {display: flex;flex-direction: column;z-index: 1;position: relative;background-color: white;}#sk-container-id-4 div.sk-parallel-item:first-child::after {align-self: flex-end;width: 50%;}#sk-container-id-4 div.sk-parallel-item:last-child::after {align-self: flex-start;width: 50%;}#sk-container-id-4 div.sk-parallel-item:only-child::after {width: 0;}#sk-container-id-4 div.sk-dashed-wrapped {border: 1px dashed gray;margin: 0 0.4em 0.5em 0.4em;box-sizing: border-box;padding-bottom: 0.4em;background-color: white;}#sk-container-id-4 div.sk-label label {font-family: monospace;font-weight: bold;display: inline-block;line-height: 1.2em;}#sk-container-id-4 div.sk-label-container {text-align: center;}#sk-container-id-4 div.sk-container {/* jupyter's `normalize.less` sets `[hidden] { display: none; }` but bootstrap.min.css set `[hidden] { display: none !important; }` so we also need the `!important` here to be able to override the default hidden behavior on the sphinx rendered scikit-learn.org. See: https://github.com/scikit-learn/scikit-learn/issues/21755 */display: inline-block !important;position: relative;}#sk-container-id-4 div.sk-text-repr-fallback {display: none;}</style><div id=\"sk-container-id-4\" class=\"sk-top-container\"><div class=\"sk-text-repr-fallback\"><pre>MultinomialNB()</pre><b>In a Jupyter environment, please rerun this cell to show the HTML representation or trust the notebook. <br />On GitHub, the HTML representation is unable to render, please try loading this page with nbviewer.org.</b></div><div class=\"sk-container\" hidden><div class=\"sk-item\"><div class=\"sk-estimator sk-toggleable\"><input class=\"sk-toggleable__control sk-hidden--visually\" id=\"sk-estimator-id-4\" type=\"checkbox\" checked><label for=\"sk-estimator-id-4\" class=\"sk-toggleable__label sk-toggleable__label-arrow\">MultinomialNB</label><div class=\"sk-toggleable__content\"><pre>MultinomialNB()</pre></div></div></div></div></div>"
            ]
          },
          "metadata": {},
          "execution_count": 35
        }
      ]
    },
    {
      "cell_type": "code",
      "source": [
        "# Predict on the test set\n",
        "y_pred = nb_model.predict(X_test_tfidf)\n",
        "\n",
        "# Evaluate the model\n",
        "print(classification_report(y_test, y_pred))\n"
      ],
      "metadata": {
        "colab": {
          "base_uri": "https://localhost:8080/"
        },
        "id": "1QFJBupQmzXJ",
        "outputId": "062b30bf-dfe6-42b2-d5d0-9cecce06c2c1"
      },
      "execution_count": 36,
      "outputs": [
        {
          "output_type": "stream",
          "name": "stdout",
          "text": [
            "              precision    recall  f1-score   support\n",
            "\n",
            "           0       0.72      0.78      0.74       139\n",
            "           1       0.79      0.52      0.63       142\n",
            "           2       0.64      0.82      0.72       127\n",
            "\n",
            "    accuracy                           0.70       408\n",
            "   macro avg       0.71      0.71      0.70       408\n",
            "weighted avg       0.72      0.70      0.70       408\n",
            "\n"
          ]
        }
      ]
    },
    {
      "cell_type": "code",
      "source": [
        "# Save the model and vectorizer\n",
        "joblib.dump(nb_model, 'nb_intensity_model.pkl')\n",
        "joblib.dump(vectorizer, 'tfidf_vectorizer.pkl')\n",
        "model_save_path = '/content/drive/My Drive/nb_intensity_model.pkl'\n",
        "\n",
        "# Save the XGBoost model\n",
        "joblib.dump(nb_model, model_save_path)"
      ],
      "metadata": {
        "colab": {
          "base_uri": "https://localhost:8080/"
        },
        "id": "NJaFsrLzlhef",
        "outputId": "cc1e61f3-ba23-4fd0-c689-2efa044ccdd9"
      },
      "execution_count": 49,
      "outputs": [
        {
          "output_type": "execute_result",
          "data": {
            "text/plain": [
              "['/content/drive/My Drive/nb_intensity_model.pkl']"
            ]
          },
          "metadata": {},
          "execution_count": 49
        }
      ]
    },
    {
      "cell_type": "code",
      "source": [
        "\n",
        "\n",
        "\n",
        "for sentence in test_sentences:\n",
        "    intensity = predict_intensity(sentence)\n",
        "    print(f\"Sentence: {sentence}\\nPredicted Intensity: {intensity}\\n\")"
      ],
      "metadata": {
        "colab": {
          "base_uri": "https://localhost:8080/"
        },
        "id": "_IJV6p3Vlhjc",
        "outputId": "c685b2f5-09c7-4e2f-c1ea-197f811491d6"
      },
      "execution_count": 60,
      "outputs": [
        {
          "output_type": "stream",
          "name": "stdout",
          "text": [
            "Sentence: I am very happy with the service!\n",
            "Predicted Intensity: 1\n",
            "\n",
            "Sentence: This is the worst experience I've ever had.\n",
            "Predicted Intensity: 2\n",
            "\n",
            "Sentence: I feel so sad and disappointed with the outcome.\n",
            "Predicted Intensity: 2\n",
            "\n",
            "Sentence: The product quality is amazing and I'm extremely satisfied!\n",
            "Predicted Intensity: 1\n",
            "\n",
            "Sentence: I'm angry because my order was not delivered on time.\n",
            "Predicted Intensity: 0\n",
            "\n",
            "Sentence: I am overjoyed with the support I received!\n",
            "Predicted Intensity: 1\n",
            "\n",
            "Sentence: This is terrible, I am very upset.\n",
            "Predicted Intensity: 2\n",
            "\n",
            "Sentence: I couldn't be happier with my purchase.\n",
            "Predicted Intensity: 1\n",
            "\n",
            "Sentence: I'm feeling very down and nothing seems to help.\n",
            "Predicted Intensity: 0\n",
            "\n",
            "Sentence: The experience was okay, nothing special.\n",
            "Predicted Intensity: 2\n",
            "\n"
          ]
        }
      ]
    },
    {
      "cell_type": "markdown",
      "source": [
        "**Random Forest Classifier**"
      ],
      "metadata": {
        "id": "ZAd1FTD6xUsG"
      }
    },
    {
      "cell_type": "code",
      "source": [
        "rf_model = RandomForestClassifier(n_estimators=100, random_state=42)\n",
        "rf_model.fit(X_train_tfidf, y_train)"
      ],
      "metadata": {
        "colab": {
          "base_uri": "https://localhost:8080/",
          "height": 74
        },
        "id": "AKqvbG4ZxUHz",
        "outputId": "18a76b1d-3c13-4fd9-f6a8-8fbf20183c74"
      },
      "execution_count": 53,
      "outputs": [
        {
          "output_type": "execute_result",
          "data": {
            "text/plain": [
              "RandomForestClassifier(random_state=42)"
            ],
            "text/html": [
              "<style>#sk-container-id-6 {color: black;background-color: white;}#sk-container-id-6 pre{padding: 0;}#sk-container-id-6 div.sk-toggleable {background-color: white;}#sk-container-id-6 label.sk-toggleable__label {cursor: pointer;display: block;width: 100%;margin-bottom: 0;padding: 0.3em;box-sizing: border-box;text-align: center;}#sk-container-id-6 label.sk-toggleable__label-arrow:before {content: \"▸\";float: left;margin-right: 0.25em;color: #696969;}#sk-container-id-6 label.sk-toggleable__label-arrow:hover:before {color: black;}#sk-container-id-6 div.sk-estimator:hover label.sk-toggleable__label-arrow:before {color: black;}#sk-container-id-6 div.sk-toggleable__content {max-height: 0;max-width: 0;overflow: hidden;text-align: left;background-color: #f0f8ff;}#sk-container-id-6 div.sk-toggleable__content pre {margin: 0.2em;color: black;border-radius: 0.25em;background-color: #f0f8ff;}#sk-container-id-6 input.sk-toggleable__control:checked~div.sk-toggleable__content {max-height: 200px;max-width: 100%;overflow: auto;}#sk-container-id-6 input.sk-toggleable__control:checked~label.sk-toggleable__label-arrow:before {content: \"▾\";}#sk-container-id-6 div.sk-estimator input.sk-toggleable__control:checked~label.sk-toggleable__label {background-color: #d4ebff;}#sk-container-id-6 div.sk-label input.sk-toggleable__control:checked~label.sk-toggleable__label {background-color: #d4ebff;}#sk-container-id-6 input.sk-hidden--visually {border: 0;clip: rect(1px 1px 1px 1px);clip: rect(1px, 1px, 1px, 1px);height: 1px;margin: -1px;overflow: hidden;padding: 0;position: absolute;width: 1px;}#sk-container-id-6 div.sk-estimator {font-family: monospace;background-color: #f0f8ff;border: 1px dotted black;border-radius: 0.25em;box-sizing: border-box;margin-bottom: 0.5em;}#sk-container-id-6 div.sk-estimator:hover {background-color: #d4ebff;}#sk-container-id-6 div.sk-parallel-item::after {content: \"\";width: 100%;border-bottom: 1px solid gray;flex-grow: 1;}#sk-container-id-6 div.sk-label:hover label.sk-toggleable__label {background-color: #d4ebff;}#sk-container-id-6 div.sk-serial::before {content: \"\";position: absolute;border-left: 1px solid gray;box-sizing: border-box;top: 0;bottom: 0;left: 50%;z-index: 0;}#sk-container-id-6 div.sk-serial {display: flex;flex-direction: column;align-items: center;background-color: white;padding-right: 0.2em;padding-left: 0.2em;position: relative;}#sk-container-id-6 div.sk-item {position: relative;z-index: 1;}#sk-container-id-6 div.sk-parallel {display: flex;align-items: stretch;justify-content: center;background-color: white;position: relative;}#sk-container-id-6 div.sk-item::before, #sk-container-id-6 div.sk-parallel-item::before {content: \"\";position: absolute;border-left: 1px solid gray;box-sizing: border-box;top: 0;bottom: 0;left: 50%;z-index: -1;}#sk-container-id-6 div.sk-parallel-item {display: flex;flex-direction: column;z-index: 1;position: relative;background-color: white;}#sk-container-id-6 div.sk-parallel-item:first-child::after {align-self: flex-end;width: 50%;}#sk-container-id-6 div.sk-parallel-item:last-child::after {align-self: flex-start;width: 50%;}#sk-container-id-6 div.sk-parallel-item:only-child::after {width: 0;}#sk-container-id-6 div.sk-dashed-wrapped {border: 1px dashed gray;margin: 0 0.4em 0.5em 0.4em;box-sizing: border-box;padding-bottom: 0.4em;background-color: white;}#sk-container-id-6 div.sk-label label {font-family: monospace;font-weight: bold;display: inline-block;line-height: 1.2em;}#sk-container-id-6 div.sk-label-container {text-align: center;}#sk-container-id-6 div.sk-container {/* jupyter's `normalize.less` sets `[hidden] { display: none; }` but bootstrap.min.css set `[hidden] { display: none !important; }` so we also need the `!important` here to be able to override the default hidden behavior on the sphinx rendered scikit-learn.org. See: https://github.com/scikit-learn/scikit-learn/issues/21755 */display: inline-block !important;position: relative;}#sk-container-id-6 div.sk-text-repr-fallback {display: none;}</style><div id=\"sk-container-id-6\" class=\"sk-top-container\"><div class=\"sk-text-repr-fallback\"><pre>RandomForestClassifier(random_state=42)</pre><b>In a Jupyter environment, please rerun this cell to show the HTML representation or trust the notebook. <br />On GitHub, the HTML representation is unable to render, please try loading this page with nbviewer.org.</b></div><div class=\"sk-container\" hidden><div class=\"sk-item\"><div class=\"sk-estimator sk-toggleable\"><input class=\"sk-toggleable__control sk-hidden--visually\" id=\"sk-estimator-id-6\" type=\"checkbox\" checked><label for=\"sk-estimator-id-6\" class=\"sk-toggleable__label sk-toggleable__label-arrow\">RandomForestClassifier</label><div class=\"sk-toggleable__content\"><pre>RandomForestClassifier(random_state=42)</pre></div></div></div></div></div>"
            ]
          },
          "metadata": {},
          "execution_count": 53
        }
      ]
    },
    {
      "cell_type": "code",
      "source": [
        "# Predict on the test set\n",
        "y_pred_rf = rf_model.predict(X_test_tfidf)\n",
        "\n",
        "# Evaluate the model\n",
        "print(classification_report(y_test, y_pred_rf))"
      ],
      "metadata": {
        "colab": {
          "base_uri": "https://localhost:8080/"
        },
        "id": "2EgFgxQ2xUNI",
        "outputId": "0b4a2976-055a-46d4-9924-86c080c82612"
      },
      "execution_count": 54,
      "outputs": [
        {
          "output_type": "stream",
          "name": "stdout",
          "text": [
            "              precision    recall  f1-score   support\n",
            "\n",
            "           0       0.75      0.81      0.78       139\n",
            "           1       0.74      0.78      0.76       142\n",
            "           2       0.82      0.70      0.76       127\n",
            "\n",
            "    accuracy                           0.76       408\n",
            "   macro avg       0.77      0.76      0.76       408\n",
            "weighted avg       0.77      0.76      0.76       408\n",
            "\n"
          ]
        }
      ]
    },
    {
      "cell_type": "code",
      "source": [
        "model_save_path = '/content/drive/My Drive/rf_intensity_model.pkl'\n",
        "\n",
        "# Save the XGBoost model\n",
        "joblib.dump(rf_model, model_save_path)"
      ],
      "metadata": {
        "colab": {
          "base_uri": "https://localhost:8080/"
        },
        "id": "Qn7yyZCPxUSF",
        "outputId": "14a39a1c-10fd-4f3f-fa58-c00e4e523996"
      },
      "execution_count": 55,
      "outputs": [
        {
          "output_type": "execute_result",
          "data": {
            "text/plain": [
              "['/content/drive/My Drive/rf_intensity_model.pkl']"
            ]
          },
          "metadata": {},
          "execution_count": 55
        }
      ]
    },
    {
      "cell_type": "code",
      "source": [
        "# Load the Random Forest model and vectorizer for deployment\n",
        "# rf_model = joblib.load('rf_intensity_model.pkl')\n",
        "# vectorizer = joblib.load('tfidf_vectorizer.pkl')\n",
        "\n",
        "# Function to predict intensity with Random Forest model\n",
        "def predict_intensity_rf(text):\n",
        "    text = clean_text(text)\n",
        "    text = remove_stopwords(text)\n",
        "    text_tfidf = vectorizer.transform([text])\n",
        "    prediction = rf_model.predict(text_tfidf)\n",
        "    return prediction[0]\n",
        "\n",
        "# Predict intensities for example sentences with Random Forest model\n",
        "for sentence in test_sentences:\n",
        "    intensity = predict_intensity_rf(sentence)\n",
        "    print(f\"Sentence: {sentence}\\nPredicted Intensity: {intensity}\\n\")\n"
      ],
      "metadata": {
        "colab": {
          "base_uri": "https://localhost:8080/"
        },
        "id": "XMELQv8qxUVr",
        "outputId": "c1876c91-f7c8-49b1-809f-aadbede18918"
      },
      "execution_count": 56,
      "outputs": [
        {
          "output_type": "stream",
          "name": "stdout",
          "text": [
            "Sentence: I am very happy with the service!\n",
            "Predicted Intensity: 1\n",
            "\n",
            "Sentence: This is the worst experience I've ever had.\n",
            "Predicted Intensity: 0\n",
            "\n",
            "Sentence: I feel so sad and disappointed with the outcome.\n",
            "Predicted Intensity: 2\n",
            "\n",
            "Sentence: The product quality is amazing and I'm extremely satisfied!\n",
            "Predicted Intensity: 1\n",
            "\n",
            "Sentence: I'm angry because my order was not delivered on time.\n",
            "Predicted Intensity: 0\n",
            "\n",
            "Sentence: I am overjoyed with the support I received!\n",
            "Predicted Intensity: 1\n",
            "\n",
            "Sentence: This is terrible, I am very upset.\n",
            "Predicted Intensity: 1\n",
            "\n",
            "Sentence: I couldn't be happier with my purchase.\n",
            "Predicted Intensity: 1\n",
            "\n",
            "Sentence: I'm feeling very down and nothing seems to help.\n",
            "Predicted Intensity: 0\n",
            "\n",
            "Sentence: The experience was okay, nothing special.\n",
            "Predicted Intensity: 2\n",
            "\n"
          ]
        }
      ]
    },
    {
      "cell_type": "markdown",
      "source": [
        "**XGBoost model training**"
      ],
      "metadata": {
        "id": "TRwoYWN4oPEE"
      }
    },
    {
      "cell_type": "code",
      "source": [
        "xgb_model = XGBClassifier(use_label_encoder=False, eval_metric='mlogloss', random_state=42)\n",
        "xgb_model.fit(X_train_tfidf, y_train)"
      ],
      "metadata": {
        "colab": {
          "base_uri": "https://localhost:8080/",
          "height": 248
        },
        "id": "eP1ODN5wlhlr",
        "outputId": "46e604fd-4615-4879-b31e-3f154fc0617b"
      },
      "execution_count": 44,
      "outputs": [
        {
          "output_type": "execute_result",
          "data": {
            "text/plain": [
              "XGBClassifier(base_score=None, booster=None, callbacks=None,\n",
              "              colsample_bylevel=None, colsample_bynode=None,\n",
              "              colsample_bytree=None, device=None, early_stopping_rounds=None,\n",
              "              enable_categorical=False, eval_metric='mlogloss',\n",
              "              feature_types=None, gamma=None, grow_policy=None,\n",
              "              importance_type=None, interaction_constraints=None,\n",
              "              learning_rate=None, max_bin=None, max_cat_threshold=None,\n",
              "              max_cat_to_onehot=None, max_delta_step=None, max_depth=None,\n",
              "              max_leaves=None, min_child_weight=None, missing=nan,\n",
              "              monotone_constraints=None, multi_strategy=None, n_estimators=None,\n",
              "              n_jobs=None, num_parallel_tree=None, objective='multi:softprob', ...)"
            ],
            "text/html": [
              "<style>#sk-container-id-5 {color: black;background-color: white;}#sk-container-id-5 pre{padding: 0;}#sk-container-id-5 div.sk-toggleable {background-color: white;}#sk-container-id-5 label.sk-toggleable__label {cursor: pointer;display: block;width: 100%;margin-bottom: 0;padding: 0.3em;box-sizing: border-box;text-align: center;}#sk-container-id-5 label.sk-toggleable__label-arrow:before {content: \"▸\";float: left;margin-right: 0.25em;color: #696969;}#sk-container-id-5 label.sk-toggleable__label-arrow:hover:before {color: black;}#sk-container-id-5 div.sk-estimator:hover label.sk-toggleable__label-arrow:before {color: black;}#sk-container-id-5 div.sk-toggleable__content {max-height: 0;max-width: 0;overflow: hidden;text-align: left;background-color: #f0f8ff;}#sk-container-id-5 div.sk-toggleable__content pre {margin: 0.2em;color: black;border-radius: 0.25em;background-color: #f0f8ff;}#sk-container-id-5 input.sk-toggleable__control:checked~div.sk-toggleable__content {max-height: 200px;max-width: 100%;overflow: auto;}#sk-container-id-5 input.sk-toggleable__control:checked~label.sk-toggleable__label-arrow:before {content: \"▾\";}#sk-container-id-5 div.sk-estimator input.sk-toggleable__control:checked~label.sk-toggleable__label {background-color: #d4ebff;}#sk-container-id-5 div.sk-label input.sk-toggleable__control:checked~label.sk-toggleable__label {background-color: #d4ebff;}#sk-container-id-5 input.sk-hidden--visually {border: 0;clip: rect(1px 1px 1px 1px);clip: rect(1px, 1px, 1px, 1px);height: 1px;margin: -1px;overflow: hidden;padding: 0;position: absolute;width: 1px;}#sk-container-id-5 div.sk-estimator {font-family: monospace;background-color: #f0f8ff;border: 1px dotted black;border-radius: 0.25em;box-sizing: border-box;margin-bottom: 0.5em;}#sk-container-id-5 div.sk-estimator:hover {background-color: #d4ebff;}#sk-container-id-5 div.sk-parallel-item::after {content: \"\";width: 100%;border-bottom: 1px solid gray;flex-grow: 1;}#sk-container-id-5 div.sk-label:hover label.sk-toggleable__label {background-color: #d4ebff;}#sk-container-id-5 div.sk-serial::before {content: \"\";position: absolute;border-left: 1px solid gray;box-sizing: border-box;top: 0;bottom: 0;left: 50%;z-index: 0;}#sk-container-id-5 div.sk-serial {display: flex;flex-direction: column;align-items: center;background-color: white;padding-right: 0.2em;padding-left: 0.2em;position: relative;}#sk-container-id-5 div.sk-item {position: relative;z-index: 1;}#sk-container-id-5 div.sk-parallel {display: flex;align-items: stretch;justify-content: center;background-color: white;position: relative;}#sk-container-id-5 div.sk-item::before, #sk-container-id-5 div.sk-parallel-item::before {content: \"\";position: absolute;border-left: 1px solid gray;box-sizing: border-box;top: 0;bottom: 0;left: 50%;z-index: -1;}#sk-container-id-5 div.sk-parallel-item {display: flex;flex-direction: column;z-index: 1;position: relative;background-color: white;}#sk-container-id-5 div.sk-parallel-item:first-child::after {align-self: flex-end;width: 50%;}#sk-container-id-5 div.sk-parallel-item:last-child::after {align-self: flex-start;width: 50%;}#sk-container-id-5 div.sk-parallel-item:only-child::after {width: 0;}#sk-container-id-5 div.sk-dashed-wrapped {border: 1px dashed gray;margin: 0 0.4em 0.5em 0.4em;box-sizing: border-box;padding-bottom: 0.4em;background-color: white;}#sk-container-id-5 div.sk-label label {font-family: monospace;font-weight: bold;display: inline-block;line-height: 1.2em;}#sk-container-id-5 div.sk-label-container {text-align: center;}#sk-container-id-5 div.sk-container {/* jupyter's `normalize.less` sets `[hidden] { display: none; }` but bootstrap.min.css set `[hidden] { display: none !important; }` so we also need the `!important` here to be able to override the default hidden behavior on the sphinx rendered scikit-learn.org. See: https://github.com/scikit-learn/scikit-learn/issues/21755 */display: inline-block !important;position: relative;}#sk-container-id-5 div.sk-text-repr-fallback {display: none;}</style><div id=\"sk-container-id-5\" class=\"sk-top-container\"><div class=\"sk-text-repr-fallback\"><pre>XGBClassifier(base_score=None, booster=None, callbacks=None,\n",
              "              colsample_bylevel=None, colsample_bynode=None,\n",
              "              colsample_bytree=None, device=None, early_stopping_rounds=None,\n",
              "              enable_categorical=False, eval_metric=&#x27;mlogloss&#x27;,\n",
              "              feature_types=None, gamma=None, grow_policy=None,\n",
              "              importance_type=None, interaction_constraints=None,\n",
              "              learning_rate=None, max_bin=None, max_cat_threshold=None,\n",
              "              max_cat_to_onehot=None, max_delta_step=None, max_depth=None,\n",
              "              max_leaves=None, min_child_weight=None, missing=nan,\n",
              "              monotone_constraints=None, multi_strategy=None, n_estimators=None,\n",
              "              n_jobs=None, num_parallel_tree=None, objective=&#x27;multi:softprob&#x27;, ...)</pre><b>In a Jupyter environment, please rerun this cell to show the HTML representation or trust the notebook. <br />On GitHub, the HTML representation is unable to render, please try loading this page with nbviewer.org.</b></div><div class=\"sk-container\" hidden><div class=\"sk-item\"><div class=\"sk-estimator sk-toggleable\"><input class=\"sk-toggleable__control sk-hidden--visually\" id=\"sk-estimator-id-5\" type=\"checkbox\" checked><label for=\"sk-estimator-id-5\" class=\"sk-toggleable__label sk-toggleable__label-arrow\">XGBClassifier</label><div class=\"sk-toggleable__content\"><pre>XGBClassifier(base_score=None, booster=None, callbacks=None,\n",
              "              colsample_bylevel=None, colsample_bynode=None,\n",
              "              colsample_bytree=None, device=None, early_stopping_rounds=None,\n",
              "              enable_categorical=False, eval_metric=&#x27;mlogloss&#x27;,\n",
              "              feature_types=None, gamma=None, grow_policy=None,\n",
              "              importance_type=None, interaction_constraints=None,\n",
              "              learning_rate=None, max_bin=None, max_cat_threshold=None,\n",
              "              max_cat_to_onehot=None, max_delta_step=None, max_depth=None,\n",
              "              max_leaves=None, min_child_weight=None, missing=nan,\n",
              "              monotone_constraints=None, multi_strategy=None, n_estimators=None,\n",
              "              n_jobs=None, num_parallel_tree=None, objective=&#x27;multi:softprob&#x27;, ...)</pre></div></div></div></div></div>"
            ]
          },
          "metadata": {},
          "execution_count": 44
        }
      ]
    },
    {
      "cell_type": "code",
      "source": [
        "# Predict on the test set\n",
        "y_pred_xgb = xgb_model.predict(X_test_tfidf)\n",
        "\n",
        "# Evaluate the model\n",
        "print(classification_report(y_test, y_pred_xgb))\n"
      ],
      "metadata": {
        "colab": {
          "base_uri": "https://localhost:8080/"
        },
        "id": "YWu3dadRlhn-",
        "outputId": "1f62476a-6215-4ea9-d772-89ded04c817c"
      },
      "execution_count": 45,
      "outputs": [
        {
          "output_type": "stream",
          "name": "stdout",
          "text": [
            "              precision    recall  f1-score   support\n",
            "\n",
            "           0       0.77      0.82      0.79       139\n",
            "           1       0.73      0.79      0.76       142\n",
            "           2       0.86      0.72      0.78       127\n",
            "\n",
            "    accuracy                           0.78       408\n",
            "   macro avg       0.79      0.78      0.78       408\n",
            "weighted avg       0.78      0.78      0.78       408\n",
            "\n"
          ]
        }
      ]
    },
    {
      "cell_type": "code",
      "source": [
        "# Save the XGBoost model\n",
        "# Path to save the model in Google Drive\n",
        "model_save_path = '/content/drive/My Drive/xgb_intensity_model.pkl'\n",
        "\n",
        "# Save the XGBoost model\n",
        "joblib.dump(xgb_model, model_save_path)\n",
        "\n"
      ],
      "metadata": {
        "colab": {
          "base_uri": "https://localhost:8080/"
        },
        "id": "F-n7IR74lhqK",
        "outputId": "3cb71d1f-1f7d-4cfe-fbfc-500a00b2852c"
      },
      "execution_count": 48,
      "outputs": [
        {
          "output_type": "execute_result",
          "data": {
            "text/plain": [
              "['/content/drive/My Drive/xgb_intensity_model.pkl']"
            ]
          },
          "metadata": {},
          "execution_count": 48
        }
      ]
    },
    {
      "cell_type": "code",
      "source": [
        "\n",
        "\n",
        "# Function to predict intensity with XGBoost model\n",
        "def predict_intensity_xgb(text):\n",
        "    text = clean_text(text)\n",
        "    text = remove_stopwords(text)\n",
        "    text_tfidf = vectorizer.transform([text])\n",
        "    prediction = xgb_model.predict(text_tfidf)\n",
        "    return prediction[0]\n",
        "\n",
        "# Predict intensities for example sentences with XGBoost model\n",
        "for sentence in test_sentences:\n",
        "    intensity = predict_intensity_xgb(sentence)\n",
        "    print(f\"Sentence: {sentence}\\nPredicted Intensity: {intensity}\\n\")\n"
      ],
      "metadata": {
        "colab": {
          "base_uri": "https://localhost:8080/"
        },
        "id": "X2-Q30-UoaFf",
        "outputId": "4f5b2874-6e1f-4a34-9350-8b9f34cea1cd"
      },
      "execution_count": 47,
      "outputs": [
        {
          "output_type": "stream",
          "name": "stdout",
          "text": [
            "Sentence: I am very happy with the service!\n",
            "Predicted Intensity: 1\n",
            "\n",
            "Sentence: This is the worst experience I've ever had.\n",
            "Predicted Intensity: 1\n",
            "\n",
            "Sentence: I feel so sad and disappointed with the outcome.\n",
            "Predicted Intensity: 2\n",
            "\n",
            "Sentence: The product quality is amazing and I'm extremely satisfied!\n",
            "Predicted Intensity: 0\n",
            "\n",
            "Sentence: I'm angry because my order was not delivered on time.\n",
            "Predicted Intensity: 0\n",
            "\n",
            "Sentence: I am overjoyed with the support I received!\n",
            "Predicted Intensity: 1\n",
            "\n",
            "Sentence: This is terrible, I am very upset.\n",
            "Predicted Intensity: 1\n",
            "\n",
            "Sentence: I couldn't be happier with my purchase.\n",
            "Predicted Intensity: 1\n",
            "\n",
            "Sentence: I'm feeling very down and nothing seems to help.\n",
            "Predicted Intensity: 0\n",
            "\n",
            "Sentence: The experience was okay, nothing special.\n",
            "Predicted Intensity: 2\n",
            "\n"
          ]
        }
      ]
    },
    {
      "cell_type": "markdown",
      "source": [
        "**Model performance comparison**"
      ],
      "metadata": {
        "id": "NLzAyb19zRPg"
      }
    },
    {
      "cell_type": "code",
      "source": [
        "# SVM\n",
        "svm_report = classification_report(y_test, svm_model.predict(X_test_tfidf), target_names=['Angriness', 'Happiness', 'Sadness'], output_dict=True)\n",
        "svm_precisions = [svm_report[label]['precision'] for label in ['Angriness', 'Happiness', 'Sadness']]\n",
        "svm_recalls = [svm_report[label]['recall'] for label in ['Angriness', 'Happiness', 'Sadness']]\n",
        "svm_f1_scores = [svm_report[label]['f1-score'] for label in ['Angriness', 'Happiness', 'Sadness']]\n",
        "\n",
        "# Random Forest\n",
        "rf_report = classification_report(y_test, rf_model.predict(X_test_tfidf), target_names=['Angriness', 'Happiness', 'Sadness'], output_dict=True)\n",
        "rf_precisions = [rf_report[label]['precision'] for label in ['Angriness', 'Happiness', 'Sadness']]\n",
        "rf_recalls = [rf_report[label]['recall'] for label in ['Angriness', 'Happiness', 'Sadness']]\n",
        "rf_f1_scores = [rf_report[label]['f1-score'] for label in ['Angriness', 'Happiness', 'Sadness']]\n",
        "\n",
        "# XGBoost\n",
        "xgb_report = classification_report(y_test, xgb_model.predict(X_test_tfidf), target_names=['Angriness', 'Happiness', 'Sadness'], output_dict=True)\n",
        "xgb_precisions = [xgb_report[label]['precision'] for label in ['Angriness', 'Happiness', 'Sadness']]\n",
        "xgb_recalls = [xgb_report[label]['recall'] for label in ['Angriness', 'Happiness', 'Sadness']]\n",
        "xgb_f1_scores = [xgb_report[label]['f1-score'] for label in ['Angriness', 'Happiness', 'Sadness']]\n",
        "\n",
        "# Naive Bayes\n",
        "nb_report = classification_report(y_test, nb_model.predict(X_test_tfidf), target_names=['Angriness', 'Happiness', 'Sadness'], output_dict=True)\n",
        "nb_precisions = [nb_report[label]['precision'] for label in ['Angriness', 'Happiness', 'Sadness']]\n",
        "nb_recalls = [nb_report[label]['recall'] for label in ['Angriness', 'Happiness', 'Sadness']]\n",
        "nb_f1_scores = [nb_report[label]['f1-score'] for label in ['Angriness', 'Happiness', 'Sadness']]\n",
        "\n",
        "# Print the comparison table\n",
        "print(\"|   Model              | Precision (Angriness)      | Precision (Happiness)     | Precision (Sadness)       | Recall (Angriness)     | Recall (Happiness)      | Recall (Sadness)       | F1-score (Angriness)     | F1-score (Happiness)    | F1-score (Sadness) |\")\n",
        "print(\"|----------------------|----------------------------|---------------------------|---------------------------|------------------------|-------------------------|------------------------|--------------------------|-------------------------|--------------------|\")\n",
        "print(f\"| **SVM**             | {svm_precisions[0]:.4f}    | {svm_precisions[1]:.4f}   | {svm_precisions[2]:.4f}   | {svm_recalls[0]:.4f}   | {svm_recalls[1]:.4f}    | {svm_recalls[2]:.4f}   | {svm_f1_scores[0]:.4f}   | {svm_f1_scores[1]:.4f}  | {svm_f1_scores[2]:.4f}|\")\n",
        "print(f\"| **Random Forest**   | {rf_precisions[0]:.4f}     | {rf_precisions[1]:.4f}    | {rf_precisions[2]:.4f}    | {rf_recalls[0]:.4f}    | {rf_recalls[1]:.4f}     | {rf_recalls[2]:.4f}    | {rf_f1_scores[0]:.4f}    | {rf_f1_scores[1]:.4f}   | {rf_f1_scores[2]:.4f} |\")\n",
        "print(f\"| **XGBoost**         | {xgb_precisions[0]:.4f}    | {xgb_precisions[1]:.4f}   | {xgb_precisions[2]:.4f}   | {xgb_recalls[0]:.4f}   | {xgb_recalls[1]:.4f}    | {xgb_recalls[2]:.4f}   | {xgb_f1_scores[0]:.4f}   | {xgb_f1_scores[1]:.4f}  | {xgb_f1_scores[2]:.4f}|\")\n",
        "print(f\"| **Naive Bayes**     | {nb_precisions[0]:.4f}     | {nb_precisions[1]:.4f}    | {nb_precisions[2]:.4f}    | {nb_recalls[0]:.4f}    | {nb_recalls[1]:.4f}     | {nb_recalls[2]:.4f}    | {nb_f1_scores[0]:.4f}    | {nb_f1_scores[1]:.4f}   | {nb_f1_scores[2]:.4f} |\")\n"
      ],
      "metadata": {
        "colab": {
          "base_uri": "https://localhost:8080/"
        },
        "id": "qdBpYwZ6yf_p",
        "outputId": "fbcc4a24-4ffa-413c-8106-302283a2d028"
      },
      "execution_count": 64,
      "outputs": [
        {
          "output_type": "stream",
          "name": "stdout",
          "text": [
            "|   Model              | Precision (Angriness)      | Precision (Happiness)     | Precision (Sadness)       | Recall (Angriness)     | Recall (Happiness)      | Recall (Sadness)       | F1-score (Angriness)     | F1-score (Happiness)    | F1-score (Sadness) |\n",
            "|----------------------|----------------------------|---------------------------|---------------------------|------------------------|-------------------------|------------------------|--------------------------|-------------------------|--------------------|\n",
            "| **SVM**             | 0.7351    | 0.7465   | 0.8087   | 0.7986   | 0.7465    | 0.7323   | 0.7655   | 0.7465  | 0.7686|\n",
            "| **Random Forest**   | 0.7467     | 0.7400    | 0.8241    | 0.8058    | 0.7817     | 0.7008    | 0.7751    | 0.7603   | 0.7574 |\n",
            "| **XGBoost**         | 0.7651    | 0.7320   | 0.8585   | 0.8201   | 0.7887    | 0.7165   | 0.7917   | 0.7593  | 0.7811|\n",
            "| **Naive Bayes**     | 0.7152     | 0.7872    | 0.6380    | 0.7770    | 0.5211     | 0.8189    | 0.7448    | 0.6271   | 0.7172 |\n"
          ]
        }
      ]
    },
    {
      "cell_type": "markdown",
      "source": [
        "| Model             | Precision (Angriness) | Precision (Happiness) | Precision (Sadness) | Recall (Angriness) | Recall (Happiness) | Recall (Sadness) | F1-score (Angriness) | F1-score (Happiness) | F1-score (Sadness) |\n",
        "|-------------------|-----------------------|-----------------------|---------------------|---------------------|---------------------|-------------------|-----------------------|-----------------------|---------------------|\n",
        "| **SVM**           | 0.7351                | 0.7465                | 0.8087              | 0.7986              | 0.7465              | 0.7323            | 0.7655                | 0.7465                | 0.7686              |\n",
        "| **Random Forest** | 0.7467                | 0.7400                | 0.8241              | 0.8058              | 0.7817              | 0.7008            | 0.7751                | 0.7603                | 0.7574              |\n",
        "| **XGBoost**       | 0.7651                | 0.7320                | 0.8585              | 0.8201              | 0.7887              | 0.7165            | 0.7917                | 0.7593                | 0.7811              |\n",
        "| **Naive Bayes**   | 0.7152                | 0.7872                | 0.6380              | 0.7770              | 0.5211              | 0.8189            | 0.7448                | 0.6271                | 0.7172              |\n",
        "\n",
        "This table summarizes the performance of each model in terms of precision, recall, and F1-score for predicting the intensity levels of Angriness, Happiness, and Sadness. The higher the values of precision, recall, and F1-score, the better the model's performance for that particular class."
      ],
      "metadata": {
        "id": "e8xz0nHK18aF"
      }
    },
    {
      "cell_type": "markdown",
      "source": [
        "**BERT model finetuning**"
      ],
      "metadata": {
        "id": "wToGDW6a2bji"
      }
    },
    {
      "cell_type": "code",
      "source": [
        "# Tokenization and Encoding\n",
        "tokenizer = BertTokenizer.from_pretrained('bert-base-uncased')\n",
        "\n",
        "# Tokenize the text\n",
        "def tokenize_function(text):\n",
        "    return tokenizer(text, padding='max_length', truncation=True, return_tensors=\"pt\")\n",
        "\n",
        "# Apply the tokenization\n",
        "tokenized_texts = df['content'].apply(lambda x: tokenize_function(x))\n",
        "\n",
        "# Convert labels to tensor\n",
        "labels = torch.tensor(df['label'].values)\n",
        "\n",
        "# Convert the tokenized texts to tensors\n",
        "input_ids = torch.cat([x['input_ids'] for x in tokenized_texts])\n",
        "attention_masks = torch.cat([x['attention_mask'] for x in tokenized_texts])\n"
      ],
      "metadata": {
        "colab": {
          "base_uri": "https://localhost:8080/",
          "height": 304,
          "referenced_widgets": [
            "ca6c999a3da743cf9e536e3c85d16837",
            "150b47a74a64423388edd6bdc826896c",
            "fda88c6dd72a4f81afe12dca95d0fdf5",
            "015363f8d06a44d7a162fc553f630a23",
            "07eae13492a44dc7be548eabfed7a8e3",
            "4f792cccbf4240a395947d2867f1c775",
            "22b0bcaeccf24d0195f526b47ad2d2f5",
            "eb22608077d54b4b8941701f993b0e44",
            "95a0d2d723234044ac4cf231676ae225",
            "d579c768a4634cd1884886cc868fbac9",
            "6aabb50cca544be58bac00bead9c38ac",
            "8a7bd0d94b8e499fac961adf6fd8fe54",
            "ee25c2b81cc64a7383181d9fc394661a",
            "525ece34a17d4c4781e172cd7d61430a",
            "dd46c944c80e4b45bc3ae12c0ea5eed8",
            "810d4605bb9641cb8bb94474997d360e",
            "c741afb3cb64441db8af681726236866",
            "6e51c5f9339346d9b5d2814a58627921",
            "0097d11524b344fbb4113e4d28288576",
            "0db707469f0e4d0e95dd3fbeb9915ac0",
            "8bdcb8e8ee1a49f6a92cc5d189a15d7a",
            "f6b7939973294309a92bc8d1cbcdedd6",
            "b70270dc59064005bd40d22c44f8cff0",
            "4c3c2874ab214bd89a22b761521353e3",
            "a134cc151be14a9d8144f5327e361adb",
            "328d902a1d16416ab75d47fd5291881a",
            "519aa675eef24e0984a358d45aa6e57e",
            "89a38d6184e64ae8ac168dc77a71f441",
            "8c0030b4d76641438d855b912ee8d4ab",
            "27d922d9b8784321ba4e5f7c6f8952db",
            "88719241c05d42ab90b4d02268c1bc52",
            "7699ce79e1b04b11bb80bfa9adb42bc4",
            "6e495de40d354d3cbe3266a529c3640e",
            "0206b9f903ab449fac1bc383a8575acd",
            "dc790464d6fb4dd9be80d68b2f2f279d",
            "bf15c43824024f7aae021ee80b40a893",
            "f6e265809eb0434b901c2258e775b541",
            "74ea1d553c6f4d5eb6e8cd11f994c385",
            "eef885ba9e6d4e95a5e8c259590c658d",
            "21ca14b2e48a40219afd483c87b7027b",
            "db4eacadfbb44974847004772cdb64de",
            "bf3d1d535bbd4914977b90baa8a57c28",
            "2db2c9ebed4c488fb5748efd90ce4fb5",
            "e289cf54ea7a4ff5a46156fa65e73cea"
          ]
        },
        "id": "d-ibuTx00VSn",
        "outputId": "5e3bdcd3-466d-4424-b7c5-7a05a81f7c6b"
      },
      "execution_count": null,
      "outputs": [
        {
          "output_type": "stream",
          "name": "stderr",
          "text": [
            "/usr/local/lib/python3.10/dist-packages/huggingface_hub/utils/_token.py:89: UserWarning: \n",
            "The secret `HF_TOKEN` does not exist in your Colab secrets.\n",
            "To authenticate with the Hugging Face Hub, create a token in your settings tab (https://huggingface.co/settings/tokens), set it as secret in your Google Colab and restart your session.\n",
            "You will be able to reuse this secret in all of your notebooks.\n",
            "Please note that authentication is recommended but still optional to access public models or datasets.\n",
            "  warnings.warn(\n"
          ]
        },
        {
          "output_type": "display_data",
          "data": {
            "text/plain": [
              "tokenizer_config.json:   0%|          | 0.00/48.0 [00:00<?, ?B/s]"
            ],
            "application/vnd.jupyter.widget-view+json": {
              "version_major": 2,
              "version_minor": 0,
              "model_id": "ca6c999a3da743cf9e536e3c85d16837"
            }
          },
          "metadata": {}
        },
        {
          "output_type": "display_data",
          "data": {
            "text/plain": [
              "vocab.txt:   0%|          | 0.00/232k [00:00<?, ?B/s]"
            ],
            "application/vnd.jupyter.widget-view+json": {
              "version_major": 2,
              "version_minor": 0,
              "model_id": "8a7bd0d94b8e499fac961adf6fd8fe54"
            }
          },
          "metadata": {}
        },
        {
          "output_type": "display_data",
          "data": {
            "text/plain": [
              "tokenizer.json:   0%|          | 0.00/466k [00:00<?, ?B/s]"
            ],
            "application/vnd.jupyter.widget-view+json": {
              "version_major": 2,
              "version_minor": 0,
              "model_id": "b70270dc59064005bd40d22c44f8cff0"
            }
          },
          "metadata": {}
        },
        {
          "output_type": "stream",
          "name": "stderr",
          "text": [
            "/usr/local/lib/python3.10/dist-packages/huggingface_hub/file_download.py:1132: FutureWarning: `resume_download` is deprecated and will be removed in version 1.0.0. Downloads always resume when possible. If you want to force a new download, use `force_download=True`.\n",
            "  warnings.warn(\n"
          ]
        },
        {
          "output_type": "display_data",
          "data": {
            "text/plain": [
              "config.json:   0%|          | 0.00/570 [00:00<?, ?B/s]"
            ],
            "application/vnd.jupyter.widget-view+json": {
              "version_major": 2,
              "version_minor": 0,
              "model_id": "0206b9f903ab449fac1bc383a8575acd"
            }
          },
          "metadata": {}
        }
      ]
    },
    {
      "cell_type": "code",
      "source": [
        "# Split the data into training and testing sets\n",
        "train_inputs, test_inputs, train_labels, test_labels = train_test_split(input_ids, labels, test_size=0.2, random_state=42)\n",
        "train_masks, test_masks, _, _ = train_test_split(attention_masks, labels, test_size=0.2, random_state=42)\n",
        "\n",
        "batch_size = 16\n",
        "\n",
        "# Create the DataLoader for our training set\n",
        "train_data = TensorDataset(train_inputs, train_masks, train_labels)\n",
        "train_sampler = RandomSampler(train_data)\n",
        "train_dataloader = DataLoader(train_data, sampler=train_sampler, batch_size=batch_size)\n",
        "\n",
        "# Create the DataLoader for our test set\n",
        "test_data = TensorDataset(test_inputs, test_masks, test_labels)\n",
        "test_sampler = SequentialSampler(test_data)\n",
        "test_dataloader = DataLoader(test_data, sampler=test_sampler, batch_size=batch_size)\n"
      ],
      "metadata": {
        "id": "lJLPybDI0VU5"
      },
      "execution_count": null,
      "outputs": []
    },
    {
      "cell_type": "code",
      "source": [
        "print(len(train_dataloader))\n",
        "print(len(test_dataloader))"
      ],
      "metadata": {
        "colab": {
          "base_uri": "https://localhost:8080/"
        },
        "id": "sHVc9b9a0VXx",
        "outputId": "68a4a301-8150-4199-c21d-698f0c679e9c"
      },
      "execution_count": null,
      "outputs": [
        {
          "output_type": "stream",
          "name": "stdout",
          "text": [
            "102\n",
            "26\n"
          ]
        }
      ]
    },
    {
      "cell_type": "code",
      "source": [
        "def train_model_v1(model, train_dataloader, val_dataloader, epochs=10, lr=2e-5, eps=1e-8, patience=3):\n",
        "    # Initialize the optimizer\n",
        "    optimizer = AdamW(model.parameters(), lr=lr, eps=eps)\n",
        "\n",
        "    # Total number of training steps\n",
        "    total_steps = len(train_dataloader) * epochs\n",
        "\n",
        "    # Create the learning rate scheduler\n",
        "    scheduler = get_linear_schedule_with_warmup(optimizer, num_warmup_steps=0, num_training_steps=total_steps)\n",
        "\n",
        "    # Loss function\n",
        "    loss_fn = torch.nn.CrossEntropyLoss()\n",
        "\n",
        "    # Early stopping parameters\n",
        "    best_val_loss = float('inf')\n",
        "    early_stopping_counter = 0\n",
        "\n",
        "    # Training loop\n",
        "    for epoch in range(epochs):\n",
        "        print(f'Epoch {epoch + 1}/{epochs}')\n",
        "        print('-' * 10)\n",
        "\n",
        "        # Set model to training mode\n",
        "        model.train()\n",
        "\n",
        "        total_train_loss = 0\n",
        "        total_train_accuracy = 0\n",
        "\n",
        "        for step, batch in enumerate(train_dataloader):\n",
        "            b_input_ids, b_input_mask, b_labels = tuple(t.cuda() for t in batch)\n",
        "\n",
        "            model.zero_grad()\n",
        "\n",
        "            outputs = model(b_input_ids, attention_mask=b_input_mask, labels=b_labels)\n",
        "            loss = outputs.loss\n",
        "            logits = outputs.logits\n",
        "\n",
        "            total_train_loss += loss.item()\n",
        "\n",
        "            loss.backward()\n",
        "            torch.nn.utils.clip_grad_norm_(model.parameters(), 1.0)\n",
        "\n",
        "            optimizer.step()\n",
        "            scheduler.step()\n",
        "\n",
        "            logits = logits.detach().cpu().numpy()\n",
        "            label_ids = b_labels.to('cpu').numpy()\n",
        "\n",
        "            total_train_accuracy += flat_accuracy(logits, label_ids)\n",
        "\n",
        "        avg_train_loss = total_train_loss / len(train_dataloader)\n",
        "        avg_train_accuracy = total_train_accuracy / len(train_dataloader)\n",
        "\n",
        "        print(f'Training loss: {avg_train_loss}')\n",
        "        print(f'Training accuracy: {avg_train_accuracy}')\n",
        "\n",
        "        # Validation\n",
        "        avg_val_loss, avg_val_accuracy = evaluate_model(model, val_dataloader, loss_fn)\n",
        "\n",
        "        print(f'Validation loss: {avg_val_loss}')\n",
        "        print(f'Validation accuracy: {avg_val_accuracy}')\n",
        "\n",
        "        if avg_val_loss < best_val_loss:\n",
        "            best_val_loss = avg_val_loss\n",
        "            early_stopping_counter = 0\n",
        "        else:\n",
        "            early_stopping_counter += 1\n",
        "\n",
        "        if early_stopping_counter >= patience:\n",
        "            print('Early stopping triggered')\n",
        "            break\n",
        "\n",
        "\n",
        "\n"
      ],
      "metadata": {
        "id": "NM0SRW6h5KCP"
      },
      "execution_count": null,
      "outputs": []
    },
    {
      "cell_type": "code",
      "source": [
        "def flat_accuracy(preds, labels):\n",
        "    pred_flat = np.argmax(preds, axis=1).flatten()\n",
        "    labels_flat = labels.flatten()\n",
        "    return np.sum(pred_flat == labels_flat) / len(labels_flat)"
      ],
      "metadata": {
        "id": "XEtV0Y7d63ge"
      },
      "execution_count": null,
      "outputs": []
    },
    {
      "cell_type": "code",
      "source": [
        "# Save the model\n",
        "output_dir = '/content/drive/My Drive/Intensity_data'\n"
      ],
      "metadata": {
        "id": "qD1tww9PCQEk"
      },
      "execution_count": null,
      "outputs": []
    },
    {
      "cell_type": "code",
      "source": [
        "def evaluate_model(model, dataloader, loss_fn):\n",
        "    model.eval()\n",
        "\n",
        "    total_eval_loss = 0\n",
        "    total_eval_accuracy = 0\n",
        "\n",
        "    for batch in dataloader:\n",
        "        b_input_ids, b_input_mask, b_labels = tuple(t.cuda() for t in batch)\n",
        "\n",
        "        with torch.no_grad():\n",
        "            outputs = model(b_input_ids, attention_mask=b_input_mask, labels=b_labels)\n",
        "            loss = outputs.loss\n",
        "            logits = outputs.logits\n",
        "\n",
        "        total_eval_loss += loss.item()\n",
        "\n",
        "        logits = logits.detach().cpu().numpy()\n",
        "        label_ids = b_labels.to('cpu').numpy()\n",
        "\n",
        "        total_eval_accuracy += flat_accuracy(logits, label_ids)\n",
        "\n",
        "    avg_val_loss = total_eval_loss / len(dataloader)\n",
        "    avg_val_accuracy = total_eval_accuracy / len(dataloader)\n",
        "\n",
        "    return avg_val_loss, avg_val_accuracy"
      ],
      "metadata": {
        "id": "YqK8VYN-60WH"
      },
      "execution_count": null,
      "outputs": []
    },
    {
      "cell_type": "code",
      "source": [
        "def calculate_metrics(model, dataloader):\n",
        "    model.eval()\n",
        "\n",
        "    predictions, true_labels = [], []\n",
        "\n",
        "    for batch in dataloader:\n",
        "        b_input_ids, b_input_mask, b_labels = tuple(t.cuda() for t in batch)\n",
        "\n",
        "        with torch.no_grad():\n",
        "            outputs = model(b_input_ids, attention_mask=b_input_mask)\n",
        "            logits = outputs.logits\n",
        "\n",
        "        logits = logits.detach().cpu().numpy()\n",
        "        label_ids = b_labels.to('cpu').numpy()\n",
        "\n",
        "        predictions.append(logits)\n",
        "        true_labels.append(label_ids)\n",
        "\n",
        "    flat_predictions = np.concatenate(predictions, axis=0)\n",
        "    flat_true_labels = np.concatenate(true_labels, axis=0)\n",
        "\n",
        "    flat_predictions = np.argmax(flat_predictions, axis=1).flatten()\n",
        "\n",
        "    precision, recall, f1, _ = precision_recall_fscore_support(flat_true_labels, flat_predictions, average='weighted')\n",
        "\n",
        "    print(f'Precision: {precision}')\n",
        "    print(f'Recall: {recall}')\n",
        "    print(f'F1-Score: {f1}')\n",
        "\n",
        "    return precision, recall, f1"
      ],
      "metadata": {
        "id": "tO0Kk78T67FR"
      },
      "execution_count": null,
      "outputs": []
    },
    {
      "cell_type": "code",
      "source": [
        "# Initialize BERT model\n",
        "model = BertForSequenceClassification.from_pretrained('bert-base-uncased', num_labels=3)\n",
        "model.to(device)  # Move the model to the GPU\n",
        "\n",
        "# Train the model\n",
        "train_model_v1(model, train_dataloader, test_dataloader,epochs=4)\n",
        "\n",
        "# Evaluate the model\n",
        "calculate_metrics(model, test_dataloader)\n"
      ],
      "metadata": {
        "id": "nnbZ5vg95KHC",
        "colab": {
          "base_uri": "https://localhost:8080/"
        },
        "outputId": "25434fea-fc3c-4242-8c50-b145278a0d68"
      },
      "execution_count": null,
      "outputs": [
        {
          "output_type": "stream",
          "name": "stderr",
          "text": [
            "Some weights of BertForSequenceClassification were not initialized from the model checkpoint at bert-base-uncased and are newly initialized: ['classifier.bias', 'classifier.weight']\n",
            "You should probably TRAIN this model on a down-stream task to be able to use it for predictions and inference.\n",
            "/usr/local/lib/python3.10/dist-packages/transformers/optimization.py:588: FutureWarning: This implementation of AdamW is deprecated and will be removed in a future version. Use the PyTorch implementation torch.optim.AdamW instead, or set `no_deprecation_warning=True` to disable this warning\n",
            "  warnings.warn(\n"
          ]
        },
        {
          "output_type": "stream",
          "name": "stdout",
          "text": [
            "Epoch 1/4\n",
            "----------\n",
            "Training loss: 0.9117892694239523\n",
            "Training accuracy: 0.5556372549019608\n",
            "Validation loss: 0.72658132819029\n",
            "Validation accuracy: 0.6778846153846154\n",
            "Epoch 2/4\n",
            "----------\n",
            "Training loss: 0.5784151270693424\n",
            "Training accuracy: 0.7615196078431372\n",
            "Validation loss: 0.6095993174956396\n",
            "Validation accuracy: 0.7548076923076923\n",
            "Epoch 3/4\n",
            "----------\n",
            "Training loss: 0.3679913754994963\n",
            "Training accuracy: 0.8700980392156863\n",
            "Validation loss: 0.6192839180047696\n",
            "Validation accuracy: 0.7668269230769231\n",
            "Epoch 4/4\n",
            "----------\n",
            "Training loss: 0.25442876586434887\n",
            "Training accuracy: 0.9147875816993465\n",
            "Validation loss: 0.6300898767434634\n",
            "Validation accuracy: 0.7740384615384616\n",
            "Precision: 0.776541996997166\n",
            "Recall: 0.7720588235294118\n",
            "F1-Score: 0.7716760925007389\n"
          ]
        },
        {
          "output_type": "execute_result",
          "data": {
            "text/plain": [
              "(0.776541996997166, 0.7720588235294118, 0.7716760925007389)"
            ]
          },
          "metadata": {},
          "execution_count": 43
        }
      ]
    },
    {
      "cell_type": "code",
      "source": [
        "# Train the model\n",
        "import time\n",
        "t_0 = time.time()\n",
        "train_model_v1(model, train_dataloader, test_dataloader,epochs=20)\n",
        "t_final = time.time()\n",
        "print(f\"Time taken to train the model is {t_final - t_0} \")\n",
        "# Evaluate the model\n",
        "calculate_metrics(model, test_dataloader)\n",
        "model.save_pretrained(output_dir)"
      ],
      "metadata": {
        "id": "MEn7Egk35KKA",
        "colab": {
          "base_uri": "https://localhost:8080/"
        },
        "outputId": "082690aa-c2e9-4472-fd1e-f7dae59c46f1"
      },
      "execution_count": null,
      "outputs": [
        {
          "output_type": "stream",
          "name": "stderr",
          "text": [
            "/usr/local/lib/python3.10/dist-packages/transformers/optimization.py:588: FutureWarning: This implementation of AdamW is deprecated and will be removed in a future version. Use the PyTorch implementation torch.optim.AdamW instead, or set `no_deprecation_warning=True` to disable this warning\n",
            "  warnings.warn(\n"
          ]
        },
        {
          "output_type": "stream",
          "name": "stdout",
          "text": [
            "Epoch 1/20\n",
            "----------\n",
            "Training loss: 0.26370121944038305\n",
            "Training accuracy: 0.9141748366013073\n",
            "Validation loss: 0.706290908730947\n",
            "Validation accuracy: 0.7764423076923077\n",
            "Epoch 2/20\n",
            "----------\n",
            "Training loss: 0.1673115490862698\n",
            "Training accuracy: 0.9466911764705882\n",
            "Validation loss: 0.8464498892426491\n",
            "Validation accuracy: 0.7764423076923077\n",
            "Epoch 3/20\n",
            "----------\n",
            "Training loss: 0.08713690307922661\n",
            "Training accuracy: 0.9767156862745098\n",
            "Validation loss: 1.03806850199516\n",
            "Validation accuracy: 0.7956730769230769\n",
            "Epoch 4/20\n",
            "----------\n",
            "Training loss: 0.07745685910933889\n",
            "Training accuracy: 0.9791666666666666\n",
            "Validation loss: 1.1384737491607666\n",
            "Validation accuracy: 0.7788461538461539\n",
            "Early stopping triggered\n",
            "Time taken to train the model is 619.7203950881958 \n",
            "Precision: 0.780861018009993\n",
            "Recall: 0.7769607843137255\n",
            "F1-Score: 0.7773429190503146\n"
          ]
        }
      ]
    },
    {
      "cell_type": "code",
      "source": [
        "def train_model_v2(model, train_dataloader, val_dataloader, epochs=10, lr=2e-5, eps=1e-8, patience=3, dropout=0.1):\n",
        "    # Initialize the optimizer\n",
        "    optimizer = AdamW(model.parameters(), lr=lr, eps=eps)\n",
        "\n",
        "    # Total number of training steps\n",
        "    total_steps = len(train_dataloader) * epochs\n",
        "\n",
        "    # Create the learning rate scheduler\n",
        "    scheduler = get_linear_schedule_with_warmup(optimizer, num_warmup_steps=0, num_training_steps=total_steps)\n",
        "\n",
        "    # Loss function\n",
        "    loss_fn = torch.nn.CrossEntropyLoss()\n",
        "\n",
        "    # Early stopping parameters\n",
        "    best_val_loss = float('inf')\n",
        "    early_stopping_counter = 0\n",
        "\n",
        "    # Training loop\n",
        "    for epoch in range(epochs):\n",
        "        print(f'Epoch {epoch + 1}/{epochs}')\n",
        "        print('-' * 10)\n",
        "\n",
        "        # Set model to training mode\n",
        "        model.train()\n",
        "\n",
        "        total_train_loss = 0\n",
        "        total_train_accuracy = 0\n",
        "\n",
        "        for step, batch in enumerate(train_dataloader):\n",
        "            b_input_ids, b_input_mask, b_labels = tuple(t.cuda() for t in batch)\n",
        "\n",
        "            model.zero_grad()\n",
        "\n",
        "            outputs = model(b_input_ids, attention_mask=b_input_mask, labels=b_labels)\n",
        "            loss = outputs.loss\n",
        "            logits = outputs.logits\n",
        "\n",
        "            total_train_loss += loss.item()\n",
        "\n",
        "            loss.backward()\n",
        "            torch.nn.utils.clip_grad_norm_(model.parameters(), 1.0)\n",
        "\n",
        "            optimizer.step()\n",
        "            scheduler.step()\n",
        "\n",
        "            logits = logits.detach().cpu().numpy()\n",
        "            label_ids = b_labels.to('cpu').numpy()\n",
        "\n",
        "            total_train_accuracy += flat_accuracy(logits, label_ids)\n",
        "\n",
        "        avg_train_loss = total_train_loss / len(train_dataloader)\n",
        "        avg_train_accuracy = total_train_accuracy / len(train_dataloader)\n",
        "\n",
        "        print(f'Training loss: {avg_train_loss}')\n",
        "        print(f'Training accuracy: {avg_train_accuracy}')\n",
        "\n",
        "        # Validation\n",
        "        avg_val_loss, avg_val_accuracy = evaluate_model(model, val_dataloader, loss_fn)\n",
        "\n",
        "        print(f'Validation loss: {avg_val_loss}')\n",
        "        print(f'Validation accuracy: {avg_val_accuracy}')\n",
        "\n",
        "        if avg_val_loss < best_val_loss:\n",
        "            best_val_loss = avg_val_loss\n",
        "            early_stopping_counter = 0\n",
        "        else:\n",
        "            early_stopping_counter += 1\n",
        "\n",
        "        if early_stopping_counter >= patience:\n",
        "            print('Early stopping triggered')\n",
        "            break"
      ],
      "metadata": {
        "id": "N0SUTqXaDl7f"
      },
      "execution_count": null,
      "outputs": []
    },
    {
      "cell_type": "code",
      "source": [
        "# Train the model\n",
        "import time\n",
        "new_dropout = 0.2\n",
        "t_0 = time.time()\n",
        "train_model_v2(model, train_dataloader, test_dataloader,epochs=20, dropout = new_dropout )\n",
        "t_final = time.time()\n",
        "print(f\"Time taken to train the model is {t_final - t_0} \")\n",
        "# Evaluate the model\n",
        "calculate_metrics(model, test_dataloader)\n",
        "model.save_pretrained(output_dir)"
      ],
      "metadata": {
        "colab": {
          "base_uri": "https://localhost:8080/"
        },
        "id": "5S0oIRk7Eb_K",
        "outputId": "7451ba5d-e464-4f49-db05-805d502007c0"
      },
      "execution_count": null,
      "outputs": [
        {
          "output_type": "stream",
          "name": "stderr",
          "text": [
            "/usr/local/lib/python3.10/dist-packages/transformers/optimization.py:588: FutureWarning: This implementation of AdamW is deprecated and will be removed in a future version. Use the PyTorch implementation torch.optim.AdamW instead, or set `no_deprecation_warning=True` to disable this warning\n",
            "  warnings.warn(\n"
          ]
        },
        {
          "output_type": "stream",
          "name": "stdout",
          "text": [
            "Epoch 1/20\n",
            "----------\n",
            "Training loss: 0.02256160699114701\n",
            "Training accuracy: 0.9938725490196079\n",
            "Validation loss: 1.707851602194401\n",
            "Validation accuracy: 0.7836538461538461\n",
            "Epoch 2/20\n",
            "----------\n",
            "Training loss: 0.02818279397901029\n",
            "Training accuracy: 0.9908088235294118\n",
            "Validation loss: 1.6453570906932538\n",
            "Validation accuracy: 0.7668269230769231\n",
            "Epoch 3/20\n",
            "----------\n",
            "Training loss: 0.040472110452052824\n",
            "Training accuracy: 0.9889705882352942\n",
            "Validation loss: 1.618588863657071\n",
            "Validation accuracy: 0.7764423076923077\n",
            "Epoch 4/20\n",
            "----------\n",
            "Training loss: 0.019756603777518738\n",
            "Training accuracy: 0.991421568627451\n",
            "Validation loss: 1.718175578575868\n",
            "Validation accuracy: 0.7860576923076923\n",
            "Epoch 5/20\n",
            "----------\n",
            "Training loss: 0.013124158037766499\n",
            "Training accuracy: 0.9932598039215687\n",
            "Validation loss: 1.7241086782171176\n",
            "Validation accuracy: 0.7908653846153846\n",
            "Epoch 6/20\n",
            "----------\n",
            "Training loss: 0.03092801536959265\n",
            "Training accuracy: 0.9895833333333334\n",
            "Validation loss: 1.6869039237499237\n",
            "Validation accuracy: 0.7740384615384616\n",
            "Early stopping triggered\n",
            "Time taken to train the model is 929.1757650375366 \n",
            "Precision: 0.7724368091232923\n",
            "Recall: 0.7720588235294118\n",
            "F1-Score: 0.7712183827579687\n"
          ]
        }
      ]
    },
    {
      "cell_type": "code",
      "source": [
        "# Train the model\n",
        "import time\n",
        "new_dropout = 0.4\n",
        "t_0 = time.time()\n",
        "train_model_v2(model, train_dataloader, test_dataloader,epochs=20, dropout = new_dropout )\n",
        "t_final = time.time()\n",
        "print(f\"Time taken to train the model is {t_final - t_0} \")\n",
        "# Evaluate the model\n",
        "calculate_metrics(model, test_dataloader)\n",
        "model_03 = model\n",
        "model_03.save_pretrained(output_dir)"
      ],
      "metadata": {
        "colab": {
          "base_uri": "https://localhost:8080/"
        },
        "id": "Dc8iV7CnP_Aa",
        "outputId": "be8c2561-1c28-45ae-9934-abad8da060f2"
      },
      "execution_count": null,
      "outputs": [
        {
          "output_type": "stream",
          "name": "stderr",
          "text": [
            "/usr/local/lib/python3.10/dist-packages/transformers/optimization.py:588: FutureWarning: This implementation of AdamW is deprecated and will be removed in a future version. Use the PyTorch implementation torch.optim.AdamW instead, or set `no_deprecation_warning=True` to disable this warning\n",
            "  warnings.warn(\n"
          ]
        },
        {
          "output_type": "stream",
          "name": "stdout",
          "text": [
            "Epoch 1/20\n",
            "----------\n",
            "Training loss: 0.03211386226700829\n",
            "Training accuracy: 0.9889705882352942\n",
            "Validation loss: 1.7771748396066518\n",
            "Validation accuracy: 0.7764423076923077\n",
            "Epoch 2/20\n",
            "----------\n",
            "Training loss: 0.015536144327366035\n",
            "Training accuracy: 0.9926470588235294\n",
            "Validation loss: 1.8720603534557785\n",
            "Validation accuracy: 0.7740384615384616\n",
            "Epoch 3/20\n",
            "----------\n",
            "Training loss: 0.021275737923668415\n",
            "Training accuracy: 0.9895833333333334\n",
            "Validation loss: 1.9861431213525624\n",
            "Validation accuracy: 0.7620192307692307\n",
            "Epoch 4/20\n",
            "----------\n",
            "Training loss: 0.023598316161844518\n",
            "Training accuracy: 0.9895833333333334\n",
            "Validation loss: 1.960076249562777\n",
            "Validation accuracy: 0.7740384615384616\n",
            "Early stopping triggered\n",
            "Time taken to train the model is 619.4590418338776 \n",
            "Precision: 0.7740450198992126\n",
            "Recall: 0.7720588235294118\n",
            "F1-Score: 0.7723256213019846\n"
          ]
        }
      ]
    },
    {
      "cell_type": "code",
      "source": [
        "model_03 = model\n",
        "model_03.save_pretrained(output_dir)"
      ],
      "metadata": {
        "id": "4GwYtSYJTC_f"
      },
      "execution_count": null,
      "outputs": []
    },
    {
      "cell_type": "markdown",
      "source": [
        "Since the dataset is smaller, BERT finetuning seems to be overfitting even with significant amount of regularization. Therefore it is safe to surmise that, with smaller datasets, we can choose XGBoost as the best available alternative."
      ],
      "metadata": {
        "id": "M9tAw6mI5OcJ"
      }
    },
    {
      "cell_type": "code",
      "source": [],
      "metadata": {
        "id": "E_z0esbN6EZS"
      },
      "execution_count": null,
      "outputs": []
    }
  ]
}